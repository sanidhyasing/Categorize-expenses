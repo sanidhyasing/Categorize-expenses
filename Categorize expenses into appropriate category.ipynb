{
 "cells": [
  {
   "cell_type": "markdown",
   "metadata": {},
   "source": [
    "# Clean data & Categorize expenses into appropriate category\n"
   ]
  },
  {
   "cell_type": "markdown",
   "metadata": {},
   "source": [
    "# -----------------------------------------------------------------------------------------------------------------"
   ]
  },
  {
   "cell_type": "markdown",
   "metadata": {},
   "source": [
    "## 1.Exploring the dataset and fixing the data structure and presentation\n",
    "\n",
    "##  2.Handling all missing values and checking for incorrect data entries.\n",
    " \n",
    "## 3. Finding a way to categorize expenses into appropriate category like Food, Travel, Shopping etc.\n",
    "\n",
    "## 4. Output the updated data into CSV so that queries like below can be answered:\n",
    "\n",
    "### - What was my food bill last month?\n",
    "### - Compare my monthly travel over past three month\n",
    "### - Am I an impulsive shopper?"
   ]
  },
  {
   "cell_type": "markdown",
   "metadata": {},
   "source": [
    "### Loading Required Packages"
   ]
  },
  {
   "cell_type": "code",
   "execution_count": 1,
   "metadata": {},
   "outputs": [],
   "source": [
    "import numpy as np\n",
    "import pandas as pd\n",
    "import matplotlib.pyplot as plt\n",
    "import seaborn as sns\n",
    "import re\n",
    "from matplotlib.pyplot import xticks\n",
    "%matplotlib inline\n",
    "\n",
    "# Supress Warnings\n",
    "import warnings\n",
    "warnings.filterwarnings('ignore')\n",
    "pd.set_option('display.max_columns', 100)"
   ]
  },
  {
   "cell_type": "markdown",
   "metadata": {},
   "source": [
    "### Reading(Loading) Datset"
   ]
  },
  {
   "cell_type": "code",
   "execution_count": 2,
   "metadata": {},
   "outputs": [],
   "source": [
    "df = pd.read_csv('OneBanc-DataScienceCleanStatement.csv' , error_bad_lines=False)"
   ]
  },
  {
   "cell_type": "markdown",
   "metadata": {},
   "source": [
    "### View Loaded datset sample"
   ]
  },
  {
   "cell_type": "code",
   "execution_count": 3,
   "metadata": {},
   "outputs": [
    {
     "data": {
      "text/html": [
       "<div>\n",
       "<style scoped>\n",
       "    .dataframe tbody tr th:only-of-type {\n",
       "        vertical-align: middle;\n",
       "    }\n",
       "\n",
       "    .dataframe tbody tr th {\n",
       "        vertical-align: top;\n",
       "    }\n",
       "\n",
       "    .dataframe thead th {\n",
       "        text-align: right;\n",
       "    }\n",
       "</style>\n",
       "<table border=\"1\" class=\"dataframe\">\n",
       "  <thead>\n",
       "    <tr style=\"text-align: right;\">\n",
       "      <th></th>\n",
       "      <th>Date</th>\n",
       "      <th>Description</th>\n",
       "      <th>InternationTransactionAmount</th>\n",
       "      <th>Category</th>\n",
       "      <th>Amount</th>\n",
       "      <th>TransactionUserName</th>\n",
       "      <th>TransactionType</th>\n",
       "      <th>IsoCurrency</th>\n",
       "      <th>Locality</th>\n",
       "      <th>City</th>\n",
       "      <th>State</th>\n",
       "      <th>Country</th>\n",
       "      <th>Unnamed: 12</th>\n",
       "    </tr>\n",
       "  </thead>\n",
       "  <tbody>\n",
       "    <tr>\n",
       "      <th>0</th>\n",
       "      <td>12/12/2019</td>\n",
       "      <td>THE ROOM               GURGAON                ...</td>\n",
       "      <td>0</td>\n",
       "      <td>Video game</td>\n",
       "      <td>-127</td>\n",
       "      <td>VIBHORE GOYAL</td>\n",
       "      <td>Domestic</td>\n",
       "      <td>INR</td>\n",
       "      <td>Central Park II</td>\n",
       "      <td>Gurugram</td>\n",
       "      <td>Haryana</td>\n",
       "      <td>India</td>\n",
       "      <td>NaN</td>\n",
       "    </tr>\n",
       "    <tr>\n",
       "      <th>1</th>\n",
       "      <td>12/12/2019</td>\n",
       "      <td>CUT AND STYLEGURGAON                          ...</td>\n",
       "      <td>0</td>\n",
       "      <td>Occupation</td>\n",
       "      <td>-499</td>\n",
       "      <td>JASJIT KAUR</td>\n",
       "      <td>Domestic</td>\n",
       "      <td>INR</td>\n",
       "      <td>Sector 4</td>\n",
       "      <td>Gurugram</td>\n",
       "      <td>Haryana</td>\n",
       "      <td>India</td>\n",
       "      <td>NaN</td>\n",
       "    </tr>\n",
       "    <tr>\n",
       "      <th>2</th>\n",
       "      <td>12/12/2019</td>\n",
       "      <td>MUMUSOGURGAON                                 ...</td>\n",
       "      <td>0</td>\n",
       "      <td></td>\n",
       "      <td>-388</td>\n",
       "      <td>JASJIT KAUR</td>\n",
       "      <td>Domestic</td>\n",
       "      <td>INR</td>\n",
       "      <td>Sector 49</td>\n",
       "      <td>Gurugram</td>\n",
       "      <td>Haryana</td>\n",
       "      <td>India</td>\n",
       "      <td>NaN</td>\n",
       "    </tr>\n",
       "    <tr>\n",
       "      <th>3</th>\n",
       "      <td>12/12/2019</td>\n",
       "      <td>THE ROOM               GURGAON                ...</td>\n",
       "      <td>0</td>\n",
       "      <td>Video game</td>\n",
       "      <td>-108</td>\n",
       "      <td>VIBHORE GOYAL</td>\n",
       "      <td>Domestic</td>\n",
       "      <td>INR</td>\n",
       "      <td>Central Park II</td>\n",
       "      <td>Gurugram</td>\n",
       "      <td>Haryana</td>\n",
       "      <td>India</td>\n",
       "      <td>NaN</td>\n",
       "    </tr>\n",
       "    <tr>\n",
       "      <th>4</th>\n",
       "      <td>12/12/2019</td>\n",
       "      <td>THE ROOM               GURGAON                ...</td>\n",
       "      <td>0</td>\n",
       "      <td>Video game</td>\n",
       "      <td>-50</td>\n",
       "      <td>VIBHORE GOYAL</td>\n",
       "      <td>Domestic</td>\n",
       "      <td>INR</td>\n",
       "      <td>Central Park II</td>\n",
       "      <td>Gurugram</td>\n",
       "      <td>Haryana</td>\n",
       "      <td>India</td>\n",
       "      <td>NaN</td>\n",
       "    </tr>\n",
       "    <tr>\n",
       "      <th>5</th>\n",
       "      <td>13-12-2019</td>\n",
       "      <td>JAIPUR SPACEJAIPUR                            ...</td>\n",
       "      <td>0</td>\n",
       "      <td>City in India</td>\n",
       "      <td>-360</td>\n",
       "      <td>JASJIT KAUR</td>\n",
       "      <td>Domestic</td>\n",
       "      <td>INR</td>\n",
       "      <td>Sector 9</td>\n",
       "      <td>Jaipur</td>\n",
       "      <td>Rajasthan</td>\n",
       "      <td>India</td>\n",
       "      <td>NaN</td>\n",
       "    </tr>\n",
       "    <tr>\n",
       "      <th>6</th>\n",
       "      <td>13-12-2019</td>\n",
       "      <td>CAFE COFFEE DAYHIGHWAY KI                     ...</td>\n",
       "      <td>0</td>\n",
       "      <td>Cafe company</td>\n",
       "      <td>-286</td>\n",
       "      <td>JASJIT KAUR</td>\n",
       "      <td>Domestic</td>\n",
       "      <td>INR</td>\n",
       "      <td>NaN</td>\n",
       "      <td>NaN</td>\n",
       "      <td>NaN</td>\n",
       "      <td>NaN</td>\n",
       "      <td>NaN</td>\n",
       "    </tr>\n",
       "    <tr>\n",
       "      <th>7</th>\n",
       "      <td>14-12-2019</td>\n",
       "      <td>CAFE COFFEE DAYALANKAR PL                     ...</td>\n",
       "      <td>0</td>\n",
       "      <td>Cafe company</td>\n",
       "      <td>-786</td>\n",
       "      <td>JASJIT KAUR</td>\n",
       "      <td>Domestic</td>\n",
       "      <td>INR</td>\n",
       "      <td>NaN</td>\n",
       "      <td>NaN</td>\n",
       "      <td>NaN</td>\n",
       "      <td>NaN</td>\n",
       "      <td>NaN</td>\n",
       "    </tr>\n",
       "    <tr>\n",
       "      <th>8</th>\n",
       "      <td>15-12-2019</td>\n",
       "      <td>LIFE STYLE INTERNATIONAJAIPUR                 ...</td>\n",
       "      <td>0</td>\n",
       "      <td></td>\n",
       "      <td>-1698</td>\n",
       "      <td>VIBHORE GOYAL</td>\n",
       "      <td>Domestic</td>\n",
       "      <td>INR</td>\n",
       "      <td>Durgadas Colony</td>\n",
       "      <td>Jaipur</td>\n",
       "      <td>Rajasthan</td>\n",
       "      <td>India</td>\n",
       "      <td>NaN</td>\n",
       "    </tr>\n",
       "    <tr>\n",
       "      <th>9</th>\n",
       "      <td>15-12-2019</td>\n",
       "      <td>NEW U 47                 JAIPUR               ...</td>\n",
       "      <td>0</td>\n",
       "      <td>New York City borough</td>\n",
       "      <td>-1890</td>\n",
       "      <td>VIBHORE GOYAL</td>\n",
       "      <td>Domestic</td>\n",
       "      <td>INR</td>\n",
       "      <td>Jaipur</td>\n",
       "      <td>Jaipur</td>\n",
       "      <td>Rajasthan</td>\n",
       "      <td>India</td>\n",
       "      <td>NaN</td>\n",
       "    </tr>\n",
       "  </tbody>\n",
       "</table>\n",
       "</div>"
      ],
      "text/plain": [
       "   Date        \\\n",
       "0  12/12/2019   \n",
       "1  12/12/2019   \n",
       "2  12/12/2019   \n",
       "3  12/12/2019   \n",
       "4  12/12/2019   \n",
       "5  13-12-2019   \n",
       "6  13-12-2019   \n",
       "7  14-12-2019   \n",
       "8  15-12-2019   \n",
       "9  15-12-2019   \n",
       "\n",
       "  Description                                                          \\\n",
       "0  THE ROOM               GURGAON                ...                    \n",
       "1  CUT AND STYLEGURGAON                          ...                    \n",
       "2  MUMUSOGURGAON                                 ...                    \n",
       "3  THE ROOM               GURGAON                ...                    \n",
       "4  THE ROOM               GURGAON                ...                    \n",
       "5  JAIPUR SPACEJAIPUR                            ...                    \n",
       "6  CAFE COFFEE DAYHIGHWAY KI                     ...                    \n",
       "7  CAFE COFFEE DAYALANKAR PL                     ...                    \n",
       "8  LIFE STYLE INTERNATIONAJAIPUR                 ...                    \n",
       "9  NEW U 47                 JAIPUR               ...                    \n",
       "\n",
       "  InternationTransactionAmount                        Category   Amount  \\\n",
       "0                            0                      Video game     -127   \n",
       "1                            0                      Occupation     -499   \n",
       "2                            0                                     -388   \n",
       "3                            0                      Video game     -108   \n",
       "4                            0                      Video game      -50   \n",
       "5                            0                   City in India     -360   \n",
       "6                            0                    Cafe company     -286   \n",
       "7                            0                    Cafe company     -786   \n",
       "8                            0                                    -1698   \n",
       "9                            0           New York City borough    -1890   \n",
       "\n",
       "   TransactionUserName   TransactionType IsoCurrency         Locality  \\\n",
       "0         VIBHORE GOYAL         Domestic         INR  Central Park II   \n",
       "1           JASJIT KAUR         Domestic         INR         Sector 4   \n",
       "2           JASJIT KAUR         Domestic         INR        Sector 49   \n",
       "3         VIBHORE GOYAL         Domestic         INR  Central Park II   \n",
       "4         VIBHORE GOYAL         Domestic         INR  Central Park II   \n",
       "5           JASJIT KAUR         Domestic         INR         Sector 9   \n",
       "6           JASJIT KAUR         Domestic         INR              NaN   \n",
       "7           JASJIT KAUR         Domestic         INR              NaN   \n",
       "8         VIBHORE GOYAL         Domestic         INR  Durgadas Colony   \n",
       "9         VIBHORE GOYAL         Domestic         INR           Jaipur   \n",
       "\n",
       "       City      State Country Unnamed: 12  \n",
       "0  Gurugram    Haryana   India         NaN  \n",
       "1  Gurugram    Haryana   India         NaN  \n",
       "2  Gurugram    Haryana   India         NaN  \n",
       "3  Gurugram    Haryana   India         NaN  \n",
       "4  Gurugram    Haryana   India         NaN  \n",
       "5    Jaipur  Rajasthan   India         NaN  \n",
       "6       NaN        NaN     NaN         NaN  \n",
       "7       NaN        NaN     NaN         NaN  \n",
       "8    Jaipur  Rajasthan   India         NaN  \n",
       "9    Jaipur  Rajasthan   India         NaN  "
      ]
     },
     "execution_count": 3,
     "metadata": {},
     "output_type": "execute_result"
    }
   ],
   "source": [
    "df.head(10)"
   ]
  },
  {
   "cell_type": "markdown",
   "metadata": {},
   "source": [
    "### Checking No of rows and columns present in the dataset"
   ]
  },
  {
   "cell_type": "code",
   "execution_count": 4,
   "metadata": {},
   "outputs": [
    {
     "name": "stdout",
     "output_type": "stream",
     "text": [
      "The no. of columns present in the dataset :   13\n",
      "The no. of rows present in the dataset :   1470\n"
     ]
    }
   ],
   "source": [
    "print(\"The no. of columns present in the dataset :  \", len(df.columns))\n",
    "print(\"The no. of rows present in the dataset :  \", len(df))"
   ]
  },
  {
   "cell_type": "markdown",
   "metadata": {},
   "source": [
    "### Checking Loaded Dataset "
   ]
  },
  {
   "cell_type": "code",
   "execution_count": 5,
   "metadata": {},
   "outputs": [
    {
     "name": "stdout",
     "output_type": "stream",
     "text": [
      "<class 'pandas.core.frame.DataFrame'>\n",
      "RangeIndex: 1470 entries, 0 to 1469\n",
      "Data columns (total 13 columns):\n",
      " #   Column                                                               Non-Null Count  Dtype \n",
      "---  ------                                                               --------------  ----- \n",
      " 0   Date                                                                 1470 non-null   object\n",
      " 1   Description                                                          1470 non-null   object\n",
      " 2   InternationTransactionAmount                                         1470 non-null   object\n",
      " 3     Category                                                           1470 non-null   object\n",
      " 4     Amount                                                             1470 non-null   object\n",
      " 5   TransactionUserName                                                  1470 non-null   object\n",
      " 6    TransactionType                                                     1470 non-null   object\n",
      " 7   IsoCurrency                                                          1470 non-null   object\n",
      " 8   Locality                                                             1302 non-null   object\n",
      " 9   City                                                                 1270 non-null   object\n",
      " 10  State                                                                1245 non-null   object\n",
      " 11  Country                                                              1307 non-null   object\n",
      " 12  Unnamed: 12                                                          4 non-null      object\n",
      "dtypes: object(13)\n",
      "memory usage: 149.4+ KB\n"
     ]
    }
   ],
   "source": [
    "df.info()"
   ]
  },
  {
   "cell_type": "code",
   "execution_count": 6,
   "metadata": {},
   "outputs": [
    {
     "data": {
      "text/html": [
       "<div>\n",
       "<style scoped>\n",
       "    .dataframe tbody tr th:only-of-type {\n",
       "        vertical-align: middle;\n",
       "    }\n",
       "\n",
       "    .dataframe tbody tr th {\n",
       "        vertical-align: top;\n",
       "    }\n",
       "\n",
       "    .dataframe thead th {\n",
       "        text-align: right;\n",
       "    }\n",
       "</style>\n",
       "<table border=\"1\" class=\"dataframe\">\n",
       "  <thead>\n",
       "    <tr style=\"text-align: right;\">\n",
       "      <th></th>\n",
       "      <th>Date</th>\n",
       "      <th>Description</th>\n",
       "      <th>InternationTransactionAmount</th>\n",
       "      <th>Category</th>\n",
       "      <th>Amount</th>\n",
       "      <th>TransactionUserName</th>\n",
       "      <th>TransactionType</th>\n",
       "      <th>IsoCurrency</th>\n",
       "      <th>Locality</th>\n",
       "      <th>City</th>\n",
       "      <th>State</th>\n",
       "      <th>Country</th>\n",
       "      <th>Unnamed: 12</th>\n",
       "    </tr>\n",
       "  </thead>\n",
       "  <tbody>\n",
       "    <tr>\n",
       "      <th>count</th>\n",
       "      <td>1470</td>\n",
       "      <td>1470</td>\n",
       "      <td>1470</td>\n",
       "      <td>1470</td>\n",
       "      <td>1470</td>\n",
       "      <td>1470</td>\n",
       "      <td>1470</td>\n",
       "      <td>1470</td>\n",
       "      <td>1302</td>\n",
       "      <td>1270</td>\n",
       "      <td>1245</td>\n",
       "      <td>1307</td>\n",
       "      <td>4</td>\n",
       "    </tr>\n",
       "    <tr>\n",
       "      <th>unique</th>\n",
       "      <td>408</td>\n",
       "      <td>495</td>\n",
       "      <td>35</td>\n",
       "      <td>153</td>\n",
       "      <td>991</td>\n",
       "      <td>7</td>\n",
       "      <td>4</td>\n",
       "      <td>5</td>\n",
       "      <td>186</td>\n",
       "      <td>41</td>\n",
       "      <td>21</td>\n",
       "      <td>7</td>\n",
       "      <td>1</td>\n",
       "    </tr>\n",
       "    <tr>\n",
       "      <th>top</th>\n",
       "      <td>1/8/2019</td>\n",
       "      <td>THE ROOM               GURGAON                ...</td>\n",
       "      <td>0</td>\n",
       "      <td></td>\n",
       "      <td>-50</td>\n",
       "      <td>JASJIT KAUR</td>\n",
       "      <td>Domestic</td>\n",
       "      <td>INR</td>\n",
       "      <td>Central Park II</td>\n",
       "      <td>Gurugram</td>\n",
       "      <td>Haryana</td>\n",
       "      <td>India</td>\n",
       "      <td>India</td>\n",
       "    </tr>\n",
       "    <tr>\n",
       "      <th>freq</th>\n",
       "      <td>13</td>\n",
       "      <td>122</td>\n",
       "      <td>1436</td>\n",
       "      <td>508</td>\n",
       "      <td>25</td>\n",
       "      <td>755</td>\n",
       "      <td>1433</td>\n",
       "      <td>1433</td>\n",
       "      <td>227</td>\n",
       "      <td>930</td>\n",
       "      <td>935</td>\n",
       "      <td>1260</td>\n",
       "      <td>4</td>\n",
       "    </tr>\n",
       "  </tbody>\n",
       "</table>\n",
       "</div>"
      ],
      "text/plain": [
       "       Date        \\\n",
       "count        1470   \n",
       "unique        408   \n",
       "top      1/8/2019   \n",
       "freq           13   \n",
       "\n",
       "       Description                                                          \\\n",
       "count                                                1470                    \n",
       "unique                                                495                    \n",
       "top     THE ROOM               GURGAON                ...                    \n",
       "freq                                                  122                    \n",
       "\n",
       "       InternationTransactionAmount                        Category   Amount  \\\n",
       "count                          1470                            1470     1470   \n",
       "unique                           35                             153      991   \n",
       "top                               0                                      -50   \n",
       "freq                           1436                             508       25   \n",
       "\n",
       "        TransactionUserName   TransactionType IsoCurrency         Locality  \\\n",
       "count                   1470             1470        1470             1302   \n",
       "unique                     7                4           5              186   \n",
       "top              JASJIT KAUR         Domestic         INR  Central Park II   \n",
       "freq                     755             1433        1433              227   \n",
       "\n",
       "            City    State Country Unnamed: 12  \n",
       "count       1270     1245    1307           4  \n",
       "unique        41       21       7           1  \n",
       "top     Gurugram  Haryana   India       India  \n",
       "freq         930      935    1260           4  "
      ]
     },
     "execution_count": 6,
     "metadata": {},
     "output_type": "execute_result"
    }
   ],
   "source": [
    "df.describe()"
   ]
  },
  {
   "cell_type": "markdown",
   "metadata": {},
   "source": [
    "### Checking Duplicated records"
   ]
  },
  {
   "cell_type": "code",
   "execution_count": 7,
   "metadata": {},
   "outputs": [
    {
     "data": {
      "text/html": [
       "<div>\n",
       "<style scoped>\n",
       "    .dataframe tbody tr th:only-of-type {\n",
       "        vertical-align: middle;\n",
       "    }\n",
       "\n",
       "    .dataframe tbody tr th {\n",
       "        vertical-align: top;\n",
       "    }\n",
       "\n",
       "    .dataframe thead th {\n",
       "        text-align: right;\n",
       "    }\n",
       "</style>\n",
       "<table border=\"1\" class=\"dataframe\">\n",
       "  <thead>\n",
       "    <tr style=\"text-align: right;\">\n",
       "      <th></th>\n",
       "      <th>Date</th>\n",
       "      <th>Description</th>\n",
       "      <th>InternationTransactionAmount</th>\n",
       "      <th>Category</th>\n",
       "      <th>Amount</th>\n",
       "      <th>TransactionUserName</th>\n",
       "      <th>TransactionType</th>\n",
       "      <th>IsoCurrency</th>\n",
       "      <th>Locality</th>\n",
       "      <th>City</th>\n",
       "      <th>State</th>\n",
       "      <th>Country</th>\n",
       "      <th>Unnamed: 12</th>\n",
       "    </tr>\n",
       "  </thead>\n",
       "  <tbody>\n",
       "    <tr>\n",
       "      <th>49</th>\n",
       "      <td>23-12-2019</td>\n",
       "      <td>AMAZON SELLER SERVICES MUMBAI                 ...</td>\n",
       "      <td>0</td>\n",
       "      <td>E-commerce company</td>\n",
       "      <td>-13798</td>\n",
       "      <td>VIBHORE GOYAL</td>\n",
       "      <td>Domestic</td>\n",
       "      <td>INR</td>\n",
       "      <td>New Mhada Colony</td>\n",
       "      <td>Mumbai</td>\n",
       "      <td>Maharashtra</td>\n",
       "      <td>India</td>\n",
       "      <td>NaN</td>\n",
       "    </tr>\n",
       "    <tr>\n",
       "      <th>52</th>\n",
       "      <td>23-12-2019</td>\n",
       "      <td>AMAZON SELLER SERVICES MUMBAI                 ...</td>\n",
       "      <td>0</td>\n",
       "      <td>E-commerce company</td>\n",
       "      <td>-13798</td>\n",
       "      <td>VIBHORE GOYAL</td>\n",
       "      <td>Domestic</td>\n",
       "      <td>INR</td>\n",
       "      <td>New Mhada Colony</td>\n",
       "      <td>Mumbai</td>\n",
       "      <td>Maharashtra</td>\n",
       "      <td>India</td>\n",
       "      <td>NaN</td>\n",
       "    </tr>\n",
       "    <tr>\n",
       "      <th>126</th>\n",
       "      <td>17-01-2019</td>\n",
       "      <td>BARISTA COFFEEGURGAON                         ...</td>\n",
       "      <td>0</td>\n",
       "      <td></td>\n",
       "      <td>-137</td>\n",
       "      <td>JASJIT KAUR</td>\n",
       "      <td>Domestic</td>\n",
       "      <td>INR</td>\n",
       "      <td>Maruti Housing Colony</td>\n",
       "      <td>Gurugram</td>\n",
       "      <td>Haryana</td>\n",
       "      <td>India</td>\n",
       "      <td>NaN</td>\n",
       "    </tr>\n",
       "    <tr>\n",
       "      <th>127</th>\n",
       "      <td>17-01-2019</td>\n",
       "      <td>BARISTA COFFEEGURGAON                         ...</td>\n",
       "      <td>0</td>\n",
       "      <td></td>\n",
       "      <td>-137</td>\n",
       "      <td>JASJIT KAUR</td>\n",
       "      <td>Domestic</td>\n",
       "      <td>INR</td>\n",
       "      <td>Maruti Housing Colony</td>\n",
       "      <td>Gurugram</td>\n",
       "      <td>Haryana</td>\n",
       "      <td>India</td>\n",
       "      <td>NaN</td>\n",
       "    </tr>\n",
       "    <tr>\n",
       "      <th>235</th>\n",
       "      <td>19-01-2020</td>\n",
       "      <td>THE ROOMGURGAON                               ...</td>\n",
       "      <td>0</td>\n",
       "      <td></td>\n",
       "      <td>-50</td>\n",
       "      <td>INDU GOYAL</td>\n",
       "      <td>Domestic</td>\n",
       "      <td>INR</td>\n",
       "      <td>Central Park II</td>\n",
       "      <td>Gurugram</td>\n",
       "      <td>Haryana</td>\n",
       "      <td>India</td>\n",
       "      <td>NaN</td>\n",
       "    </tr>\n",
       "    <tr>\n",
       "      <th>236</th>\n",
       "      <td>19-01-2020</td>\n",
       "      <td>THE ROOMGURGAON                               ...</td>\n",
       "      <td>0</td>\n",
       "      <td></td>\n",
       "      <td>-50</td>\n",
       "      <td>INDU GOYAL</td>\n",
       "      <td>Domestic</td>\n",
       "      <td>INR</td>\n",
       "      <td>Central Park II</td>\n",
       "      <td>Gurugram</td>\n",
       "      <td>Haryana</td>\n",
       "      <td>India</td>\n",
       "      <td>NaN</td>\n",
       "    </tr>\n",
       "    <tr>\n",
       "      <th>280</th>\n",
       "      <td>30-01-2020</td>\n",
       "      <td>PAYTMNOIDA                                    ...</td>\n",
       "      <td>0</td>\n",
       "      <td></td>\n",
       "      <td>-5000</td>\n",
       "      <td>VIBHORE GOYAL</td>\n",
       "      <td>Domestic</td>\n",
       "      <td>INR</td>\n",
       "      <td>F Block</td>\n",
       "      <td>Noida</td>\n",
       "      <td>Uttar Pradesh</td>\n",
       "      <td>India</td>\n",
       "      <td>NaN</td>\n",
       "    </tr>\n",
       "    <tr>\n",
       "      <th>281</th>\n",
       "      <td>30-01-2020</td>\n",
       "      <td>PAYTMNOIDA                                    ...</td>\n",
       "      <td>0</td>\n",
       "      <td></td>\n",
       "      <td>-5000</td>\n",
       "      <td>VIBHORE GOYAL</td>\n",
       "      <td>Domestic</td>\n",
       "      <td>INR</td>\n",
       "      <td>F Block</td>\n",
       "      <td>Noida</td>\n",
       "      <td>Uttar Pradesh</td>\n",
       "      <td>India</td>\n",
       "      <td>NaN</td>\n",
       "    </tr>\n",
       "    <tr>\n",
       "      <th>364</th>\n",
       "      <td>17-02-2019</td>\n",
       "      <td>INDIAN RAILWAY CATERINGNEW DELHI              ...</td>\n",
       "      <td>0</td>\n",
       "      <td>Railway company</td>\n",
       "      <td>-5964.04</td>\n",
       "      <td>VIBHORE GOYAL</td>\n",
       "      <td>Domestic</td>\n",
       "      <td>INR</td>\n",
       "      <td>Janpath</td>\n",
       "      <td>New Delhi</td>\n",
       "      <td>Delhi</td>\n",
       "      <td>India</td>\n",
       "      <td>NaN</td>\n",
       "    </tr>\n",
       "    <tr>\n",
       "      <th>365</th>\n",
       "      <td>17-02-2019</td>\n",
       "      <td>INDIAN RAILWAY CATERINGNEW DELHI              ...</td>\n",
       "      <td>0</td>\n",
       "      <td>Railway company</td>\n",
       "      <td>-5964.04</td>\n",
       "      <td>VIBHORE GOYAL</td>\n",
       "      <td>Domestic</td>\n",
       "      <td>INR</td>\n",
       "      <td>Janpath</td>\n",
       "      <td>New Delhi</td>\n",
       "      <td>Delhi</td>\n",
       "      <td>India</td>\n",
       "      <td>NaN</td>\n",
       "    </tr>\n",
       "    <tr>\n",
       "      <th>1088</th>\n",
       "      <td>15-11-2019</td>\n",
       "      <td>THE ROOMGURGAON                               ...</td>\n",
       "      <td>0</td>\n",
       "      <td></td>\n",
       "      <td>-877</td>\n",
       "      <td>JASJIT KAUR</td>\n",
       "      <td>Domestic</td>\n",
       "      <td>INR</td>\n",
       "      <td>Central Park II</td>\n",
       "      <td>Gurugram</td>\n",
       "      <td>Haryana</td>\n",
       "      <td>India</td>\n",
       "      <td>NaN</td>\n",
       "    </tr>\n",
       "    <tr>\n",
       "      <th>1089</th>\n",
       "      <td>15-11-2019</td>\n",
       "      <td>THE ROOMGURGAON                               ...</td>\n",
       "      <td>0</td>\n",
       "      <td></td>\n",
       "      <td>-877</td>\n",
       "      <td>JASJIT KAUR</td>\n",
       "      <td>Domestic</td>\n",
       "      <td>INR</td>\n",
       "      <td>Central Park II</td>\n",
       "      <td>Gurugram</td>\n",
       "      <td>Haryana</td>\n",
       "      <td>India</td>\n",
       "      <td>NaN</td>\n",
       "    </tr>\n",
       "  </tbody>\n",
       "</table>\n",
       "</div>"
      ],
      "text/plain": [
       "      Date        \\\n",
       "49    23-12-2019   \n",
       "52    23-12-2019   \n",
       "126   17-01-2019   \n",
       "127   17-01-2019   \n",
       "235   19-01-2020   \n",
       "236   19-01-2020   \n",
       "280   30-01-2020   \n",
       "281   30-01-2020   \n",
       "364   17-02-2019   \n",
       "365   17-02-2019   \n",
       "1088  15-11-2019   \n",
       "1089  15-11-2019   \n",
       "\n",
       "     Description                                                          \\\n",
       "49    AMAZON SELLER SERVICES MUMBAI                 ...                    \n",
       "52    AMAZON SELLER SERVICES MUMBAI                 ...                    \n",
       "126   BARISTA COFFEEGURGAON                         ...                    \n",
       "127   BARISTA COFFEEGURGAON                         ...                    \n",
       "235   THE ROOMGURGAON                               ...                    \n",
       "236   THE ROOMGURGAON                               ...                    \n",
       "280   PAYTMNOIDA                                    ...                    \n",
       "281   PAYTMNOIDA                                    ...                    \n",
       "364   INDIAN RAILWAY CATERINGNEW DELHI              ...                    \n",
       "365   INDIAN RAILWAY CATERINGNEW DELHI              ...                    \n",
       "1088  THE ROOMGURGAON                               ...                    \n",
       "1089  THE ROOMGURGAON                               ...                    \n",
       "\n",
       "     InternationTransactionAmount                        Category    Amount  \\\n",
       "49                              0              E-commerce company    -13798   \n",
       "52                              0              E-commerce company    -13798   \n",
       "126                             0                                      -137   \n",
       "127                             0                                      -137   \n",
       "235                             0                                       -50   \n",
       "236                             0                                       -50   \n",
       "280                             0                                     -5000   \n",
       "281                             0                                     -5000   \n",
       "364                             0                 Railway company  -5964.04   \n",
       "365                             0                 Railway company  -5964.04   \n",
       "1088                            0                                      -877   \n",
       "1089                            0                                      -877   \n",
       "\n",
       "      TransactionUserName   TransactionType IsoCurrency  \\\n",
       "49           VIBHORE GOYAL         Domestic         INR   \n",
       "52           VIBHORE GOYAL         Domestic         INR   \n",
       "126            JASJIT KAUR         Domestic         INR   \n",
       "127            JASJIT KAUR         Domestic         INR   \n",
       "235             INDU GOYAL         Domestic         INR   \n",
       "236             INDU GOYAL         Domestic         INR   \n",
       "280          VIBHORE GOYAL         Domestic         INR   \n",
       "281          VIBHORE GOYAL         Domestic         INR   \n",
       "364          VIBHORE GOYAL         Domestic         INR   \n",
       "365          VIBHORE GOYAL         Domestic         INR   \n",
       "1088           JASJIT KAUR         Domestic         INR   \n",
       "1089           JASJIT KAUR         Domestic         INR   \n",
       "\n",
       "                   Locality       City          State Country Unnamed: 12  \n",
       "49         New Mhada Colony     Mumbai    Maharashtra   India         NaN  \n",
       "52         New Mhada Colony     Mumbai    Maharashtra   India         NaN  \n",
       "126   Maruti Housing Colony   Gurugram        Haryana   India         NaN  \n",
       "127   Maruti Housing Colony   Gurugram        Haryana   India         NaN  \n",
       "235         Central Park II   Gurugram        Haryana   India         NaN  \n",
       "236         Central Park II   Gurugram        Haryana   India         NaN  \n",
       "280                 F Block      Noida  Uttar Pradesh   India         NaN  \n",
       "281                 F Block      Noida  Uttar Pradesh   India         NaN  \n",
       "364                 Janpath  New Delhi          Delhi   India         NaN  \n",
       "365                 Janpath  New Delhi          Delhi   India         NaN  \n",
       "1088        Central Park II   Gurugram        Haryana   India         NaN  \n",
       "1089        Central Park II   Gurugram        Haryana   India         NaN  "
      ]
     },
     "execution_count": 7,
     "metadata": {},
     "output_type": "execute_result"
    }
   ],
   "source": [
    "df[df.duplicated(keep=False)]"
   ]
  },
  {
   "cell_type": "markdown",
   "metadata": {},
   "source": [
    "### Checking count of Duplicated records"
   ]
  },
  {
   "cell_type": "code",
   "execution_count": 8,
   "metadata": {},
   "outputs": [
    {
     "name": "stdout",
     "output_type": "stream",
     "text": [
      "6\n"
     ]
    }
   ],
   "source": [
    "print(df.duplicated().sum())"
   ]
  },
  {
   "cell_type": "markdown",
   "metadata": {},
   "source": [
    "### Removing Duplicated records"
   ]
  },
  {
   "cell_type": "code",
   "execution_count": 9,
   "metadata": {},
   "outputs": [],
   "source": [
    "df = df.drop_duplicates()"
   ]
  },
  {
   "cell_type": "markdown",
   "metadata": {},
   "source": [
    "### Checking shape of the datset after removal of duplicates"
   ]
  },
  {
   "cell_type": "code",
   "execution_count": 10,
   "metadata": {},
   "outputs": [
    {
     "name": "stdout",
     "output_type": "stream",
     "text": [
      "The no. of columns present in the dataset :   13\n",
      "The no. of rows present in the dataset :   1464\n"
     ]
    }
   ],
   "source": [
    "print(\"The no. of columns present in the dataset :  \", len(df.columns))\n",
    "print(\"The no. of rows present in the dataset :  \", len(df))"
   ]
  },
  {
   "cell_type": "markdown",
   "metadata": {},
   "source": [
    "### Checking  the count of Unique Value in each Column"
   ]
  },
  {
   "cell_type": "code",
   "execution_count": 11,
   "metadata": {},
   "outputs": [
    {
     "data": {
      "text/plain": [
       "Date                                                                   408\n",
       "Description                                                            495\n",
       "InternationTransactionAmount                                            35\n",
       "  Category                                                             153\n",
       "  Amount                                                               991\n",
       "TransactionUserName                                                      7\n",
       " TransactionType                                                         4\n",
       "IsoCurrency                                                              5\n",
       "Locality                                                               186\n",
       "City                                                                    41\n",
       "State                                                                   21\n",
       "Country                                                                  7\n",
       "Unnamed: 12                                                              1\n",
       "dtype: int64"
      ]
     },
     "execution_count": 11,
     "metadata": {},
     "output_type": "execute_result"
    }
   ],
   "source": [
    "df.nunique()"
   ]
  },
  {
   "cell_type": "markdown",
   "metadata": {},
   "source": [
    "### Checking the count Null values"
   ]
  },
  {
   "cell_type": "code",
   "execution_count": 12,
   "metadata": {},
   "outputs": [
    {
     "data": {
      "text/plain": [
       "Date                                                                      0\n",
       "Description                                                               0\n",
       "InternationTransactionAmount                                              0\n",
       "  Category                                                                0\n",
       "  Amount                                                                  0\n",
       "TransactionUserName                                                       0\n",
       " TransactionType                                                          0\n",
       "IsoCurrency                                                               0\n",
       "Locality                                                                168\n",
       "City                                                                    200\n",
       "State                                                                   225\n",
       "Country                                                                 163\n",
       "Unnamed: 12                                                            1460\n",
       "dtype: int64"
      ]
     },
     "execution_count": 12,
     "metadata": {},
     "output_type": "execute_result"
    }
   ],
   "source": [
    "df.isnull().sum()"
   ]
  },
  {
   "cell_type": "markdown",
   "metadata": {},
   "source": [
    "### Seems Unnamed: 12 column has very few data points. Let's check those. "
   ]
  },
  {
   "cell_type": "code",
   "execution_count": 13,
   "metadata": {},
   "outputs": [
    {
     "data": {
      "text/html": [
       "<div>\n",
       "<style scoped>\n",
       "    .dataframe tbody tr th:only-of-type {\n",
       "        vertical-align: middle;\n",
       "    }\n",
       "\n",
       "    .dataframe tbody tr th {\n",
       "        vertical-align: top;\n",
       "    }\n",
       "\n",
       "    .dataframe thead th {\n",
       "        text-align: right;\n",
       "    }\n",
       "</style>\n",
       "<table border=\"1\" class=\"dataframe\">\n",
       "  <thead>\n",
       "    <tr style=\"text-align: right;\">\n",
       "      <th></th>\n",
       "      <th>Date</th>\n",
       "      <th>Description</th>\n",
       "      <th>InternationTransactionAmount</th>\n",
       "      <th>Category</th>\n",
       "      <th>Amount</th>\n",
       "      <th>TransactionUserName</th>\n",
       "      <th>TransactionType</th>\n",
       "      <th>IsoCurrency</th>\n",
       "      <th>Locality</th>\n",
       "      <th>City</th>\n",
       "      <th>State</th>\n",
       "      <th>Country</th>\n",
       "      <th>Unnamed: 12</th>\n",
       "    </tr>\n",
       "  </thead>\n",
       "  <tbody>\n",
       "    <tr>\n",
       "      <th>182</th>\n",
       "      <td>3/2/2019</td>\n",
       "      <td>RAZ*Pizza Hut</td>\n",
       "      <td>F-2/7OKH  Delhi                              ...</td>\n",
       "      <td>0</td>\n",
       "      <td></td>\n",
       "      <td>-438.9</td>\n",
       "      <td>VIBHORE GOYAL</td>\n",
       "      <td>Domestic</td>\n",
       "      <td>INR</td>\n",
       "      <td>NaN</td>\n",
       "      <td>NaN</td>\n",
       "      <td>Delhi</td>\n",
       "      <td>India</td>\n",
       "    </tr>\n",
       "    <tr>\n",
       "      <th>477</th>\n",
       "      <td>23-02-2020</td>\n",
       "      <td>THE BREWHOUSE 2 Radisson Gurugram             ...</td>\n",
       "      <td>0</td>\n",
       "      <td>Theatre in Taunton</td>\n",
       "      <td>England</td>\n",
       "      <td>-2899</td>\n",
       "      <td>JASJIT KAUR</td>\n",
       "      <td>Domestic</td>\n",
       "      <td>INR</td>\n",
       "      <td>Block S</td>\n",
       "      <td>Gurugram</td>\n",
       "      <td>Haryana</td>\n",
       "      <td>India</td>\n",
       "    </tr>\n",
       "    <tr>\n",
       "      <th>755</th>\n",
       "      <td>4/8/2019</td>\n",
       "      <td>BREWER STREET          GURGAON                ...</td>\n",
       "      <td>0</td>\n",
       "      <td>Street in London</td>\n",
       "      <td>England</td>\n",
       "      <td>-2348</td>\n",
       "      <td>VIBHORE GOYAL</td>\n",
       "      <td>Domestic</td>\n",
       "      <td>INR</td>\n",
       "      <td>D1 Block</td>\n",
       "      <td>Gurugram</td>\n",
       "      <td>Haryana</td>\n",
       "      <td>India</td>\n",
       "    </tr>\n",
       "    <tr>\n",
       "      <th>789</th>\n",
       "      <td>14-08-2019</td>\n",
       "      <td>Jai Mahal Palace Hawa MahJAIPUR               ...</td>\n",
       "      <td>0</td>\n",
       "      <td>Palace in Jaipur</td>\n",
       "      <td>India</td>\n",
       "      <td>-2391</td>\n",
       "      <td>VIBHORE GOYAL</td>\n",
       "      <td>Domestic</td>\n",
       "      <td>INR</td>\n",
       "      <td>Civil Lines</td>\n",
       "      <td>Jaipur</td>\n",
       "      <td>Rajasthan</td>\n",
       "      <td>India</td>\n",
       "    </tr>\n",
       "  </tbody>\n",
       "</table>\n",
       "</div>"
      ],
      "text/plain": [
       "     Date        \\\n",
       "182    3/2/2019   \n",
       "477  23-02-2020   \n",
       "755    4/8/2019   \n",
       "789  14-08-2019   \n",
       "\n",
       "    Description                                                          \\\n",
       "182                                      RAZ*Pizza Hut                    \n",
       "477  THE BREWHOUSE 2 Radisson Gurugram             ...                    \n",
       "755  BREWER STREET          GURGAON                ...                    \n",
       "789  Jai Mahal Palace Hawa MahJAIPUR               ...                    \n",
       "\n",
       "                          InternationTransactionAmount  \\\n",
       "182   F-2/7OKH  Delhi                              ...   \n",
       "477                                                  0   \n",
       "755                                                  0   \n",
       "789                                                  0   \n",
       "\n",
       "                    Category                          Amount  \\\n",
       "182                        0                                   \n",
       "477       Theatre in Taunton                         England   \n",
       "755         Street in London                         England   \n",
       "789         Palace in Jaipur                           India   \n",
       "\n",
       "    TransactionUserName        TransactionType      IsoCurrency Locality  \\\n",
       "182               -438.9         VIBHORE GOYAL         Domestic      INR   \n",
       "477                -2899           JASJIT KAUR         Domestic      INR   \n",
       "755                -2348         VIBHORE GOYAL         Domestic      INR   \n",
       "789                -2391         VIBHORE GOYAL         Domestic      INR   \n",
       "\n",
       "            City     State    Country Unnamed: 12  \n",
       "182          NaN       NaN      Delhi       India  \n",
       "477      Block S  Gurugram    Haryana       India  \n",
       "755     D1 Block  Gurugram    Haryana       India  \n",
       "789  Civil Lines    Jaipur  Rajasthan       India  "
      ]
     },
     "execution_count": 13,
     "metadata": {},
     "output_type": "execute_result"
    }
   ],
   "source": [
    "first_df = df[df['Unnamed: 12'].notnull()]\n",
    "first_df"
   ]
  },
  {
   "cell_type": "markdown",
   "metadata": {},
   "source": [
    "### Removing the above four rows since data present is quite wrong "
   ]
  },
  {
   "cell_type": "code",
   "execution_count": 14,
   "metadata": {},
   "outputs": [],
   "source": [
    "df['Unnamed: 12'] = df['Unnamed: 12'].fillna(0)\n",
    "df = df[df['Unnamed: 12'] == 0]"
   ]
  },
  {
   "cell_type": "markdown",
   "metadata": {},
   "source": [
    "### Checking shape of the datset after removal of above 4 rows"
   ]
  },
  {
   "cell_type": "code",
   "execution_count": 15,
   "metadata": {},
   "outputs": [
    {
     "name": "stdout",
     "output_type": "stream",
     "text": [
      "The no. of columns present in the dataset :   13\n",
      "The no. of rows present in the dataset :   1460\n"
     ]
    }
   ],
   "source": [
    "print(\"The no. of columns present in the dataset :  \", len(df.columns))\n",
    "print(\"The no. of rows present in the dataset :  \", len(df))"
   ]
  },
  {
   "cell_type": "code",
   "execution_count": 16,
   "metadata": {},
   "outputs": [
    {
     "data": {
      "text/plain": [
       "Date                                                                   408\n",
       "Description                                                            491\n",
       "InternationTransactionAmount                                            34\n",
       "  Category                                                             149\n",
       "  Amount                                                               988\n",
       "TransactionUserName                                                      3\n",
       " TransactionType                                                         2\n",
       "IsoCurrency                                                              4\n",
       "Locality                                                               185\n",
       "City                                                                    38\n",
       "State                                                                   19\n",
       "Country                                                                  4\n",
       "Unnamed: 12                                                              1\n",
       "dtype: int64"
      ]
     },
     "execution_count": 16,
     "metadata": {},
     "output_type": "execute_result"
    }
   ],
   "source": [
    "df.nunique()"
   ]
  },
  {
   "cell_type": "code",
   "execution_count": 17,
   "metadata": {},
   "outputs": [],
   "source": [
    "### Seems some of the column headers have white spaces in between them. \n",
    "\n",
    "### Removing white spaces from the column headers"
   ]
  },
  {
   "cell_type": "code",
   "execution_count": 18,
   "metadata": {},
   "outputs": [],
   "source": [
    "df.columns = df.columns.str.replace(' ', '') "
   ]
  },
  {
   "cell_type": "code",
   "execution_count": 19,
   "metadata": {},
   "outputs": [
    {
     "data": {
      "text/html": [
       "<div>\n",
       "<style scoped>\n",
       "    .dataframe tbody tr th:only-of-type {\n",
       "        vertical-align: middle;\n",
       "    }\n",
       "\n",
       "    .dataframe tbody tr th {\n",
       "        vertical-align: top;\n",
       "    }\n",
       "\n",
       "    .dataframe thead th {\n",
       "        text-align: right;\n",
       "    }\n",
       "</style>\n",
       "<table border=\"1\" class=\"dataframe\">\n",
       "  <thead>\n",
       "    <tr style=\"text-align: right;\">\n",
       "      <th></th>\n",
       "      <th>Date</th>\n",
       "      <th>Description</th>\n",
       "      <th>InternationTransactionAmount</th>\n",
       "      <th>Category</th>\n",
       "      <th>Amount</th>\n",
       "      <th>TransactionUserName</th>\n",
       "      <th>TransactionType</th>\n",
       "      <th>IsoCurrency</th>\n",
       "      <th>Locality</th>\n",
       "      <th>City</th>\n",
       "      <th>State</th>\n",
       "      <th>Country</th>\n",
       "      <th>Unnamed:12</th>\n",
       "    </tr>\n",
       "  </thead>\n",
       "  <tbody>\n",
       "    <tr>\n",
       "      <th>0</th>\n",
       "      <td>12/12/2019</td>\n",
       "      <td>THE ROOM               GURGAON                ...</td>\n",
       "      <td>0</td>\n",
       "      <td>Video game</td>\n",
       "      <td>-127</td>\n",
       "      <td>VIBHORE GOYAL</td>\n",
       "      <td>Domestic</td>\n",
       "      <td>INR</td>\n",
       "      <td>Central Park II</td>\n",
       "      <td>Gurugram</td>\n",
       "      <td>Haryana</td>\n",
       "      <td>India</td>\n",
       "      <td>0</td>\n",
       "    </tr>\n",
       "    <tr>\n",
       "      <th>1</th>\n",
       "      <td>12/12/2019</td>\n",
       "      <td>CUT AND STYLEGURGAON                          ...</td>\n",
       "      <td>0</td>\n",
       "      <td>Occupation</td>\n",
       "      <td>-499</td>\n",
       "      <td>JASJIT KAUR</td>\n",
       "      <td>Domestic</td>\n",
       "      <td>INR</td>\n",
       "      <td>Sector 4</td>\n",
       "      <td>Gurugram</td>\n",
       "      <td>Haryana</td>\n",
       "      <td>India</td>\n",
       "      <td>0</td>\n",
       "    </tr>\n",
       "    <tr>\n",
       "      <th>2</th>\n",
       "      <td>12/12/2019</td>\n",
       "      <td>MUMUSOGURGAON                                 ...</td>\n",
       "      <td>0</td>\n",
       "      <td></td>\n",
       "      <td>-388</td>\n",
       "      <td>JASJIT KAUR</td>\n",
       "      <td>Domestic</td>\n",
       "      <td>INR</td>\n",
       "      <td>Sector 49</td>\n",
       "      <td>Gurugram</td>\n",
       "      <td>Haryana</td>\n",
       "      <td>India</td>\n",
       "      <td>0</td>\n",
       "    </tr>\n",
       "    <tr>\n",
       "      <th>3</th>\n",
       "      <td>12/12/2019</td>\n",
       "      <td>THE ROOM               GURGAON                ...</td>\n",
       "      <td>0</td>\n",
       "      <td>Video game</td>\n",
       "      <td>-108</td>\n",
       "      <td>VIBHORE GOYAL</td>\n",
       "      <td>Domestic</td>\n",
       "      <td>INR</td>\n",
       "      <td>Central Park II</td>\n",
       "      <td>Gurugram</td>\n",
       "      <td>Haryana</td>\n",
       "      <td>India</td>\n",
       "      <td>0</td>\n",
       "    </tr>\n",
       "    <tr>\n",
       "      <th>4</th>\n",
       "      <td>12/12/2019</td>\n",
       "      <td>THE ROOM               GURGAON                ...</td>\n",
       "      <td>0</td>\n",
       "      <td>Video game</td>\n",
       "      <td>-50</td>\n",
       "      <td>VIBHORE GOYAL</td>\n",
       "      <td>Domestic</td>\n",
       "      <td>INR</td>\n",
       "      <td>Central Park II</td>\n",
       "      <td>Gurugram</td>\n",
       "      <td>Haryana</td>\n",
       "      <td>India</td>\n",
       "      <td>0</td>\n",
       "    </tr>\n",
       "  </tbody>\n",
       "</table>\n",
       "</div>"
      ],
      "text/plain": [
       "         Date                                        Description  \\\n",
       "0  12/12/2019  THE ROOM               GURGAON                ...   \n",
       "1  12/12/2019  CUT AND STYLEGURGAON                          ...   \n",
       "2  12/12/2019  MUMUSOGURGAON                                 ...   \n",
       "3  12/12/2019  THE ROOM               GURGAON                ...   \n",
       "4  12/12/2019  THE ROOM               GURGAON                ...   \n",
       "\n",
       "  InternationTransactionAmount                        Category Amount  \\\n",
       "0                            0                      Video game   -127   \n",
       "1                            0                      Occupation   -499   \n",
       "2                            0                                   -388   \n",
       "3                            0                      Video game   -108   \n",
       "4                            0                      Video game    -50   \n",
       "\n",
       "    TransactionUserName  TransactionType IsoCurrency         Locality  \\\n",
       "0         VIBHORE GOYAL         Domestic         INR  Central Park II   \n",
       "1           JASJIT KAUR         Domestic         INR         Sector 4   \n",
       "2           JASJIT KAUR         Domestic         INR        Sector 49   \n",
       "3         VIBHORE GOYAL         Domestic         INR  Central Park II   \n",
       "4         VIBHORE GOYAL         Domestic         INR  Central Park II   \n",
       "\n",
       "       City    State Country Unnamed:12  \n",
       "0  Gurugram  Haryana   India          0  \n",
       "1  Gurugram  Haryana   India          0  \n",
       "2  Gurugram  Haryana   India          0  \n",
       "3  Gurugram  Haryana   India          0  \n",
       "4  Gurugram  Haryana   India          0  "
      ]
     },
     "execution_count": 19,
     "metadata": {},
     "output_type": "execute_result"
    }
   ],
   "source": [
    "df.head()"
   ]
  },
  {
   "cell_type": "code",
   "execution_count": 20,
   "metadata": {},
   "outputs": [
    {
     "data": {
      "text/html": [
       "<div>\n",
       "<style scoped>\n",
       "    .dataframe tbody tr th:only-of-type {\n",
       "        vertical-align: middle;\n",
       "    }\n",
       "\n",
       "    .dataframe tbody tr th {\n",
       "        vertical-align: top;\n",
       "    }\n",
       "\n",
       "    .dataframe thead th {\n",
       "        text-align: right;\n",
       "    }\n",
       "</style>\n",
       "<table border=\"1\" class=\"dataframe\">\n",
       "  <thead>\n",
       "    <tr style=\"text-align: right;\">\n",
       "      <th></th>\n",
       "      <th>0</th>\n",
       "      <th>1</th>\n",
       "      <th>2</th>\n",
       "      <th>3</th>\n",
       "    </tr>\n",
       "  </thead>\n",
       "  <tbody>\n",
       "    <tr>\n",
       "      <th>0</th>\n",
       "      <td>THE ROOM</td>\n",
       "      <td>GURGAON</td>\n",
       "      <td></td>\n",
       "      <td>None</td>\n",
       "    </tr>\n",
       "    <tr>\n",
       "      <th>1</th>\n",
       "      <td>CUT AND STYLEGURGAON</td>\n",
       "      <td></td>\n",
       "      <td>None</td>\n",
       "      <td>None</td>\n",
       "    </tr>\n",
       "    <tr>\n",
       "      <th>2</th>\n",
       "      <td>MUMUSOGURGAON</td>\n",
       "      <td></td>\n",
       "      <td>None</td>\n",
       "      <td>None</td>\n",
       "    </tr>\n",
       "    <tr>\n",
       "      <th>3</th>\n",
       "      <td>THE ROOM</td>\n",
       "      <td>GURGAON</td>\n",
       "      <td></td>\n",
       "      <td>None</td>\n",
       "    </tr>\n",
       "    <tr>\n",
       "      <th>4</th>\n",
       "      <td>THE ROOM</td>\n",
       "      <td>GURGAON</td>\n",
       "      <td></td>\n",
       "      <td>None</td>\n",
       "    </tr>\n",
       "  </tbody>\n",
       "</table>\n",
       "</div>"
      ],
      "text/plain": [
       "                      0        1     2     3\n",
       "0              THE ROOM  GURGAON        None\n",
       "1  CUT AND STYLEGURGAON           None  None\n",
       "2         MUMUSOGURGAON           None  None\n",
       "3              THE ROOM  GURGAON        None\n",
       "4              THE ROOM  GURGAON        None"
      ]
     },
     "execution_count": 20,
     "metadata": {},
     "output_type": "execute_result"
    }
   ],
   "source": [
    "des_data = df['Description'].str.split('\\s{2,}',expand=True) \n",
    "des_data.head()"
   ]
  },
  {
   "cell_type": "code",
   "execution_count": 21,
   "metadata": {},
   "outputs": [
    {
     "data": {
      "text/html": [
       "<div>\n",
       "<style scoped>\n",
       "    .dataframe tbody tr th:only-of-type {\n",
       "        vertical-align: middle;\n",
       "    }\n",
       "\n",
       "    .dataframe tbody tr th {\n",
       "        vertical-align: top;\n",
       "    }\n",
       "\n",
       "    .dataframe thead th {\n",
       "        text-align: right;\n",
       "    }\n",
       "</style>\n",
       "<table border=\"1\" class=\"dataframe\">\n",
       "  <thead>\n",
       "    <tr style=\"text-align: right;\">\n",
       "      <th></th>\n",
       "      <th>Description</th>\n",
       "      <th>City2</th>\n",
       "      <th>Tag3</th>\n",
       "      <th>Tag4</th>\n",
       "    </tr>\n",
       "  </thead>\n",
       "  <tbody>\n",
       "    <tr>\n",
       "      <th>0</th>\n",
       "      <td>THE ROOM</td>\n",
       "      <td>GURGAON</td>\n",
       "      <td></td>\n",
       "      <td>None</td>\n",
       "    </tr>\n",
       "    <tr>\n",
       "      <th>1</th>\n",
       "      <td>CUT AND STYLEGURGAON</td>\n",
       "      <td></td>\n",
       "      <td>None</td>\n",
       "      <td>None</td>\n",
       "    </tr>\n",
       "    <tr>\n",
       "      <th>2</th>\n",
       "      <td>MUMUSOGURGAON</td>\n",
       "      <td></td>\n",
       "      <td>None</td>\n",
       "      <td>None</td>\n",
       "    </tr>\n",
       "    <tr>\n",
       "      <th>3</th>\n",
       "      <td>THE ROOM</td>\n",
       "      <td>GURGAON</td>\n",
       "      <td></td>\n",
       "      <td>None</td>\n",
       "    </tr>\n",
       "    <tr>\n",
       "      <th>4</th>\n",
       "      <td>THE ROOM</td>\n",
       "      <td>GURGAON</td>\n",
       "      <td></td>\n",
       "      <td>None</td>\n",
       "    </tr>\n",
       "  </tbody>\n",
       "</table>\n",
       "</div>"
      ],
      "text/plain": [
       "            Description    City2  Tag3  Tag4\n",
       "0              THE ROOM  GURGAON        None\n",
       "1  CUT AND STYLEGURGAON           None  None\n",
       "2         MUMUSOGURGAON           None  None\n",
       "3              THE ROOM  GURGAON        None\n",
       "4              THE ROOM  GURGAON        None"
      ]
     },
     "execution_count": 21,
     "metadata": {},
     "output_type": "execute_result"
    }
   ],
   "source": [
    "des_data.columns = ['Description' , 'City2' , 'Tag3' , 'Tag4']\n",
    "des_data.head()"
   ]
  },
  {
   "cell_type": "code",
   "execution_count": 22,
   "metadata": {},
   "outputs": [
    {
     "data": {
      "text/html": [
       "<div>\n",
       "<style scoped>\n",
       "    .dataframe tbody tr th:only-of-type {\n",
       "        vertical-align: middle;\n",
       "    }\n",
       "\n",
       "    .dataframe tbody tr th {\n",
       "        vertical-align: top;\n",
       "    }\n",
       "\n",
       "    .dataframe thead th {\n",
       "        text-align: right;\n",
       "    }\n",
       "</style>\n",
       "<table border=\"1\" class=\"dataframe\">\n",
       "  <thead>\n",
       "    <tr style=\"text-align: right;\">\n",
       "      <th></th>\n",
       "      <th>Description</th>\n",
       "      <th>City2</th>\n",
       "    </tr>\n",
       "  </thead>\n",
       "  <tbody>\n",
       "    <tr>\n",
       "      <th>0</th>\n",
       "      <td>THE ROOM</td>\n",
       "      <td>GURGAON</td>\n",
       "    </tr>\n",
       "    <tr>\n",
       "      <th>1</th>\n",
       "      <td>CUT AND STYLEGURGAON</td>\n",
       "      <td></td>\n",
       "    </tr>\n",
       "    <tr>\n",
       "      <th>2</th>\n",
       "      <td>MUMUSOGURGAON</td>\n",
       "      <td></td>\n",
       "    </tr>\n",
       "    <tr>\n",
       "      <th>3</th>\n",
       "      <td>THE ROOM</td>\n",
       "      <td>GURGAON</td>\n",
       "    </tr>\n",
       "    <tr>\n",
       "      <th>4</th>\n",
       "      <td>THE ROOM</td>\n",
       "      <td>GURGAON</td>\n",
       "    </tr>\n",
       "  </tbody>\n",
       "</table>\n",
       "</div>"
      ],
      "text/plain": [
       "            Description    City2\n",
       "0              THE ROOM  GURGAON\n",
       "1  CUT AND STYLEGURGAON         \n",
       "2         MUMUSOGURGAON         \n",
       "3              THE ROOM  GURGAON\n",
       "4              THE ROOM  GURGAON"
      ]
     },
     "execution_count": 22,
     "metadata": {},
     "output_type": "execute_result"
    }
   ],
   "source": [
    "des_data = des_data.drop(['Tag4', 'Tag3'], axis = 1)\n",
    "des_data.head()"
   ]
  },
  {
   "cell_type": "code",
   "execution_count": 23,
   "metadata": {},
   "outputs": [
    {
     "name": "stdout",
     "output_type": "stream",
     "text": [
      "The no. of columns present in the dataset :   2\n",
      "The no. of rows present in the dataset :   1460\n"
     ]
    }
   ],
   "source": [
    "print(\"The no. of columns present in the dataset :  \", len(des_data.columns))\n",
    "print(\"The no. of rows present in the dataset :  \", len(des_data))"
   ]
  },
  {
   "cell_type": "code",
   "execution_count": 24,
   "metadata": {},
   "outputs": [
    {
     "data": {
      "text/html": [
       "<div>\n",
       "<style scoped>\n",
       "    .dataframe tbody tr th:only-of-type {\n",
       "        vertical-align: middle;\n",
       "    }\n",
       "\n",
       "    .dataframe tbody tr th {\n",
       "        vertical-align: top;\n",
       "    }\n",
       "\n",
       "    .dataframe thead th {\n",
       "        text-align: right;\n",
       "    }\n",
       "</style>\n",
       "<table border=\"1\" class=\"dataframe\">\n",
       "  <thead>\n",
       "    <tr style=\"text-align: right;\">\n",
       "      <th></th>\n",
       "      <th>Date</th>\n",
       "      <th>Description</th>\n",
       "      <th>InternationTransactionAmount</th>\n",
       "      <th>Category</th>\n",
       "      <th>Amount</th>\n",
       "      <th>TransactionUserName</th>\n",
       "      <th>TransactionType</th>\n",
       "      <th>IsoCurrency</th>\n",
       "      <th>Locality</th>\n",
       "      <th>City</th>\n",
       "      <th>State</th>\n",
       "      <th>Country</th>\n",
       "      <th>Unnamed:12</th>\n",
       "      <th>Description2</th>\n",
       "      <th>City2</th>\n",
       "    </tr>\n",
       "  </thead>\n",
       "  <tbody>\n",
       "    <tr>\n",
       "      <th>0</th>\n",
       "      <td>12/12/2019</td>\n",
       "      <td>THE ROOM               GURGAON                ...</td>\n",
       "      <td>0</td>\n",
       "      <td>Video game</td>\n",
       "      <td>-127</td>\n",
       "      <td>VIBHORE GOYAL</td>\n",
       "      <td>Domestic</td>\n",
       "      <td>INR</td>\n",
       "      <td>Central Park II</td>\n",
       "      <td>Gurugram</td>\n",
       "      <td>Haryana</td>\n",
       "      <td>India</td>\n",
       "      <td>0</td>\n",
       "      <td>THE ROOM</td>\n",
       "      <td>GURGAON</td>\n",
       "    </tr>\n",
       "    <tr>\n",
       "      <th>1</th>\n",
       "      <td>12/12/2019</td>\n",
       "      <td>CUT AND STYLEGURGAON                          ...</td>\n",
       "      <td>0</td>\n",
       "      <td>Occupation</td>\n",
       "      <td>-499</td>\n",
       "      <td>JASJIT KAUR</td>\n",
       "      <td>Domestic</td>\n",
       "      <td>INR</td>\n",
       "      <td>Sector 4</td>\n",
       "      <td>Gurugram</td>\n",
       "      <td>Haryana</td>\n",
       "      <td>India</td>\n",
       "      <td>0</td>\n",
       "      <td>CUT AND STYLEGURGAON</td>\n",
       "      <td></td>\n",
       "    </tr>\n",
       "    <tr>\n",
       "      <th>2</th>\n",
       "      <td>12/12/2019</td>\n",
       "      <td>MUMUSOGURGAON                                 ...</td>\n",
       "      <td>0</td>\n",
       "      <td></td>\n",
       "      <td>-388</td>\n",
       "      <td>JASJIT KAUR</td>\n",
       "      <td>Domestic</td>\n",
       "      <td>INR</td>\n",
       "      <td>Sector 49</td>\n",
       "      <td>Gurugram</td>\n",
       "      <td>Haryana</td>\n",
       "      <td>India</td>\n",
       "      <td>0</td>\n",
       "      <td>MUMUSOGURGAON</td>\n",
       "      <td></td>\n",
       "    </tr>\n",
       "    <tr>\n",
       "      <th>3</th>\n",
       "      <td>12/12/2019</td>\n",
       "      <td>THE ROOM               GURGAON                ...</td>\n",
       "      <td>0</td>\n",
       "      <td>Video game</td>\n",
       "      <td>-108</td>\n",
       "      <td>VIBHORE GOYAL</td>\n",
       "      <td>Domestic</td>\n",
       "      <td>INR</td>\n",
       "      <td>Central Park II</td>\n",
       "      <td>Gurugram</td>\n",
       "      <td>Haryana</td>\n",
       "      <td>India</td>\n",
       "      <td>0</td>\n",
       "      <td>THE ROOM</td>\n",
       "      <td>GURGAON</td>\n",
       "    </tr>\n",
       "    <tr>\n",
       "      <th>4</th>\n",
       "      <td>12/12/2019</td>\n",
       "      <td>THE ROOM               GURGAON                ...</td>\n",
       "      <td>0</td>\n",
       "      <td>Video game</td>\n",
       "      <td>-50</td>\n",
       "      <td>VIBHORE GOYAL</td>\n",
       "      <td>Domestic</td>\n",
       "      <td>INR</td>\n",
       "      <td>Central Park II</td>\n",
       "      <td>Gurugram</td>\n",
       "      <td>Haryana</td>\n",
       "      <td>India</td>\n",
       "      <td>0</td>\n",
       "      <td>THE ROOM</td>\n",
       "      <td>GURGAON</td>\n",
       "    </tr>\n",
       "  </tbody>\n",
       "</table>\n",
       "</div>"
      ],
      "text/plain": [
       "         Date                                        Description  \\\n",
       "0  12/12/2019  THE ROOM               GURGAON                ...   \n",
       "1  12/12/2019  CUT AND STYLEGURGAON                          ...   \n",
       "2  12/12/2019  MUMUSOGURGAON                                 ...   \n",
       "3  12/12/2019  THE ROOM               GURGAON                ...   \n",
       "4  12/12/2019  THE ROOM               GURGAON                ...   \n",
       "\n",
       "  InternationTransactionAmount                        Category Amount  \\\n",
       "0                            0                      Video game   -127   \n",
       "1                            0                      Occupation   -499   \n",
       "2                            0                                   -388   \n",
       "3                            0                      Video game   -108   \n",
       "4                            0                      Video game    -50   \n",
       "\n",
       "    TransactionUserName  TransactionType IsoCurrency         Locality  \\\n",
       "0         VIBHORE GOYAL         Domestic         INR  Central Park II   \n",
       "1           JASJIT KAUR         Domestic         INR         Sector 4   \n",
       "2           JASJIT KAUR         Domestic         INR        Sector 49   \n",
       "3         VIBHORE GOYAL         Domestic         INR  Central Park II   \n",
       "4         VIBHORE GOYAL         Domestic         INR  Central Park II   \n",
       "\n",
       "       City    State Country Unnamed:12          Description2    City2  \n",
       "0  Gurugram  Haryana   India          0              THE ROOM  GURGAON  \n",
       "1  Gurugram  Haryana   India          0  CUT AND STYLEGURGAON           \n",
       "2  Gurugram  Haryana   India          0         MUMUSOGURGAON           \n",
       "3  Gurugram  Haryana   India          0              THE ROOM  GURGAON  \n",
       "4  Gurugram  Haryana   India          0              THE ROOM  GURGAON  "
      ]
     },
     "execution_count": 24,
     "metadata": {},
     "output_type": "execute_result"
    }
   ],
   "source": [
    "df['Description2'] =  des_data['Description']\n",
    "df['City2'] =  des_data['City2']\n",
    "df.head()"
   ]
  },
  {
   "cell_type": "code",
   "execution_count": 25,
   "metadata": {},
   "outputs": [
    {
     "name": "stdout",
     "output_type": "stream",
     "text": [
      "The no. of columns present in the dataset :   15\n",
      "The no. of rows present in the dataset :   1460\n"
     ]
    }
   ],
   "source": [
    "print(\"The no. of columns present in the dataset :  \", len(df.columns))\n",
    "print(\"The no. of rows present in the dataset :  \", len(df))"
   ]
  },
  {
   "cell_type": "code",
   "execution_count": 26,
   "metadata": {},
   "outputs": [
    {
     "data": {
      "text/html": [
       "<div>\n",
       "<style scoped>\n",
       "    .dataframe tbody tr th:only-of-type {\n",
       "        vertical-align: middle;\n",
       "    }\n",
       "\n",
       "    .dataframe tbody tr th {\n",
       "        vertical-align: top;\n",
       "    }\n",
       "\n",
       "    .dataframe thead th {\n",
       "        text-align: right;\n",
       "    }\n",
       "</style>\n",
       "<table border=\"1\" class=\"dataframe\">\n",
       "  <thead>\n",
       "    <tr style=\"text-align: right;\">\n",
       "      <th></th>\n",
       "      <th>Date</th>\n",
       "      <th>Description</th>\n",
       "      <th>InternationTransactionAmount</th>\n",
       "      <th>Category</th>\n",
       "      <th>Amount</th>\n",
       "      <th>TransactionUserName</th>\n",
       "      <th>TransactionType</th>\n",
       "      <th>IsoCurrency</th>\n",
       "      <th>Locality</th>\n",
       "      <th>City</th>\n",
       "      <th>State</th>\n",
       "      <th>Country</th>\n",
       "      <th>Unnamed:12</th>\n",
       "      <th>Description2</th>\n",
       "      <th>City2</th>\n",
       "    </tr>\n",
       "  </thead>\n",
       "  <tbody>\n",
       "    <tr>\n",
       "      <th>0</th>\n",
       "      <td>12/12/2019</td>\n",
       "      <td>THE ROOM               GURGAON                ...</td>\n",
       "      <td>0</td>\n",
       "      <td>Video game</td>\n",
       "      <td>-127</td>\n",
       "      <td>VIBHORE GOYAL</td>\n",
       "      <td>Domestic</td>\n",
       "      <td>INR</td>\n",
       "      <td>Central Park II</td>\n",
       "      <td>Gurugram</td>\n",
       "      <td>Haryana</td>\n",
       "      <td>India</td>\n",
       "      <td>0</td>\n",
       "      <td>THE ROOM</td>\n",
       "      <td>GURGAON</td>\n",
       "    </tr>\n",
       "    <tr>\n",
       "      <th>1</th>\n",
       "      <td>12/12/2019</td>\n",
       "      <td>CUT AND STYLEGURGAON                          ...</td>\n",
       "      <td>0</td>\n",
       "      <td>Occupation</td>\n",
       "      <td>-499</td>\n",
       "      <td>JASJIT KAUR</td>\n",
       "      <td>Domestic</td>\n",
       "      <td>INR</td>\n",
       "      <td>Sector 4</td>\n",
       "      <td>Gurugram</td>\n",
       "      <td>Haryana</td>\n",
       "      <td>India</td>\n",
       "      <td>0</td>\n",
       "      <td>CUT AND STYLEGURGAON</td>\n",
       "      <td></td>\n",
       "    </tr>\n",
       "    <tr>\n",
       "      <th>2</th>\n",
       "      <td>12/12/2019</td>\n",
       "      <td>MUMUSOGURGAON                                 ...</td>\n",
       "      <td>0</td>\n",
       "      <td></td>\n",
       "      <td>-388</td>\n",
       "      <td>JASJIT KAUR</td>\n",
       "      <td>Domestic</td>\n",
       "      <td>INR</td>\n",
       "      <td>Sector 49</td>\n",
       "      <td>Gurugram</td>\n",
       "      <td>Haryana</td>\n",
       "      <td>India</td>\n",
       "      <td>0</td>\n",
       "      <td>MUMUSOGURGAON</td>\n",
       "      <td></td>\n",
       "    </tr>\n",
       "    <tr>\n",
       "      <th>3</th>\n",
       "      <td>12/12/2019</td>\n",
       "      <td>THE ROOM               GURGAON                ...</td>\n",
       "      <td>0</td>\n",
       "      <td>Video game</td>\n",
       "      <td>-108</td>\n",
       "      <td>VIBHORE GOYAL</td>\n",
       "      <td>Domestic</td>\n",
       "      <td>INR</td>\n",
       "      <td>Central Park II</td>\n",
       "      <td>Gurugram</td>\n",
       "      <td>Haryana</td>\n",
       "      <td>India</td>\n",
       "      <td>0</td>\n",
       "      <td>THE ROOM</td>\n",
       "      <td>GURGAON</td>\n",
       "    </tr>\n",
       "    <tr>\n",
       "      <th>4</th>\n",
       "      <td>12/12/2019</td>\n",
       "      <td>THE ROOM               GURGAON                ...</td>\n",
       "      <td>0</td>\n",
       "      <td>Video game</td>\n",
       "      <td>-50</td>\n",
       "      <td>VIBHORE GOYAL</td>\n",
       "      <td>Domestic</td>\n",
       "      <td>INR</td>\n",
       "      <td>Central Park II</td>\n",
       "      <td>Gurugram</td>\n",
       "      <td>Haryana</td>\n",
       "      <td>India</td>\n",
       "      <td>0</td>\n",
       "      <td>THE ROOM</td>\n",
       "      <td>GURGAON</td>\n",
       "    </tr>\n",
       "  </tbody>\n",
       "</table>\n",
       "</div>"
      ],
      "text/plain": [
       "         Date                                        Description  \\\n",
       "0  12/12/2019  THE ROOM               GURGAON                ...   \n",
       "1  12/12/2019  CUT AND STYLEGURGAON                          ...   \n",
       "2  12/12/2019  MUMUSOGURGAON                                 ...   \n",
       "3  12/12/2019  THE ROOM               GURGAON                ...   \n",
       "4  12/12/2019  THE ROOM               GURGAON                ...   \n",
       "\n",
       "  InternationTransactionAmount                        Category Amount  \\\n",
       "0                            0                      Video game   -127   \n",
       "1                            0                      Occupation   -499   \n",
       "2                            0                                   -388   \n",
       "3                            0                      Video game   -108   \n",
       "4                            0                      Video game    -50   \n",
       "\n",
       "    TransactionUserName  TransactionType IsoCurrency         Locality  \\\n",
       "0         VIBHORE GOYAL         Domestic         INR  Central Park II   \n",
       "1           JASJIT KAUR         Domestic         INR         Sector 4   \n",
       "2           JASJIT KAUR         Domestic         INR        Sector 49   \n",
       "3         VIBHORE GOYAL         Domestic         INR  Central Park II   \n",
       "4         VIBHORE GOYAL         Domestic         INR  Central Park II   \n",
       "\n",
       "       City    State Country Unnamed:12          Description2    City2  \n",
       "0  Gurugram  Haryana   India          0              THE ROOM  GURGAON  \n",
       "1  Gurugram  Haryana   India          0  CUT AND STYLEGURGAON           \n",
       "2  Gurugram  Haryana   India          0         MUMUSOGURGAON           \n",
       "3  Gurugram  Haryana   India          0              THE ROOM  GURGAON  \n",
       "4  Gurugram  Haryana   India          0              THE ROOM  GURGAON  "
      ]
     },
     "execution_count": 26,
     "metadata": {},
     "output_type": "execute_result"
    }
   ],
   "source": [
    "df.head()"
   ]
  },
  {
   "cell_type": "code",
   "execution_count": null,
   "metadata": {},
   "outputs": [],
   "source": []
  },
  {
   "cell_type": "markdown",
   "metadata": {},
   "source": [
    "### Checking the count Null values"
   ]
  },
  {
   "cell_type": "code",
   "execution_count": 27,
   "metadata": {},
   "outputs": [
    {
     "data": {
      "text/plain": [
       "Date                              0\n",
       "Description                       0\n",
       "InternationTransactionAmount      0\n",
       "Category                          0\n",
       "Amount                            0\n",
       "TransactionUserName               0\n",
       "TransactionType                   0\n",
       "IsoCurrency                       0\n",
       "Locality                        168\n",
       "City                            199\n",
       "State                           224\n",
       "Country                         163\n",
       "Unnamed:12                        0\n",
       "Description2                      0\n",
       "City2                            50\n",
       "dtype: int64"
      ]
     },
     "execution_count": 27,
     "metadata": {},
     "output_type": "execute_result"
    }
   ],
   "source": [
    "df.isnull().sum()"
   ]
  },
  {
   "cell_type": "markdown",
   "metadata": {},
   "source": [
    "### Removing column \"Unnamed: 12\", since all the records are blank"
   ]
  },
  {
   "cell_type": "code",
   "execution_count": 28,
   "metadata": {},
   "outputs": [],
   "source": [
    "df = df.drop(['Unnamed:12'], axis = 1)"
   ]
  },
  {
   "cell_type": "markdown",
   "metadata": {},
   "source": [
    "### Checking shape of the datset after removal of above 4 rows"
   ]
  },
  {
   "cell_type": "code",
   "execution_count": 29,
   "metadata": {},
   "outputs": [
    {
     "name": "stdout",
     "output_type": "stream",
     "text": [
      "The no. of columns present in the dataset :   14\n",
      "The no. of rows present in the dataset :   1460\n"
     ]
    }
   ],
   "source": [
    "print(\"The no. of columns present in the dataset :  \", len(df.columns))\n",
    "print(\"The no. of rows present in the dataset :  \", len(df))"
   ]
  },
  {
   "cell_type": "markdown",
   "metadata": {},
   "source": [
    "### ------------------------------------------------------------------------------------------------------------------------------------------------------------------"
   ]
  },
  {
   "cell_type": "markdown",
   "metadata": {},
   "source": [
    "### Checking Null Values"
   ]
  },
  {
   "cell_type": "code",
   "execution_count": 30,
   "metadata": {},
   "outputs": [
    {
     "data": {
      "text/plain": [
       "Date                             0.00\n",
       "Description                      0.00\n",
       "InternationTransactionAmount     0.00\n",
       "Category                         0.00\n",
       "Amount                           0.00\n",
       "TransactionUserName              0.00\n",
       "TransactionType                  0.00\n",
       "IsoCurrency                      0.00\n",
       "Locality                        11.51\n",
       "City                            13.63\n",
       "State                           15.34\n",
       "Country                         11.16\n",
       "Description2                     0.00\n",
       "City2                            3.42\n",
       "dtype: float64"
      ]
     },
     "execution_count": 30,
     "metadata": {},
     "output_type": "execute_result"
    }
   ],
   "source": [
    "round(100*(df.isnull().sum()/len(df.index)), 2)"
   ]
  },
  {
   "cell_type": "code",
   "execution_count": 31,
   "metadata": {},
   "outputs": [],
   "source": [
    "data = df"
   ]
  },
  {
   "cell_type": "markdown",
   "metadata": {},
   "source": [
    "### Exploring \"Country\" column"
   ]
  },
  {
   "cell_type": "code",
   "execution_count": 32,
   "metadata": {},
   "outputs": [
    {
     "data": {
      "text/plain": [
       "count      1297\n",
       "unique        4\n",
       "top       India\n",
       "freq       1254\n",
       "Name: Country, dtype: object"
      ]
     },
     "execution_count": 32,
     "metadata": {},
     "output_type": "execute_result"
    }
   ],
   "source": [
    "df.Country.describe()"
   ]
  },
  {
   "cell_type": "markdown",
   "metadata": {},
   "source": [
    "#### Replacing missing value or 'NaN' with others."
   ]
  },
  {
   "cell_type": "code",
   "execution_count": 33,
   "metadata": {},
   "outputs": [
    {
     "data": {
      "text/plain": [
       "(India            85.890411\n",
       " Others           11.164384\n",
       " Singapore         1.917808\n",
       " United States     0.821918\n",
       " Malaysia          0.205479\n",
       " Name: Country, dtype: float64, 2)"
      ]
     },
     "execution_count": 33,
     "metadata": {},
     "output_type": "execute_result"
    }
   ],
   "source": [
    "df['Country'] = df['Country'].replace(np.nan, 'Others')\n",
    "df['Country'].value_counts()/len(df)*100,2"
   ]
  },
  {
   "cell_type": "code",
   "execution_count": 34,
   "metadata": {},
   "outputs": [],
   "source": [
    "#### Since the percetages of alll value except India is low, we are merginf them into \"Others\".\n",
    "#### Replacing Singapore, United States, Malaysia value with others."
   ]
  },
  {
   "cell_type": "code",
   "execution_count": 35,
   "metadata": {},
   "outputs": [],
   "source": [
    "df['Country'] = df['Country'].replace(['Singapore', 'United States', 'Malaysia','Others'], 'Others')"
   ]
  },
  {
   "cell_type": "code",
   "execution_count": 36,
   "metadata": {},
   "outputs": [
    {
     "data": {
      "text/plain": [
       "(array([0, 1]), <a list of 2 Text xticklabel objects>)"
      ]
     },
     "execution_count": 36,
     "metadata": {},
     "output_type": "execute_result"
    },
    {
     "data": {
      "image/png": "[encoded data removed]",
      "text/plain": [
       "<Figure size 432x288 with 1 Axes>"
      ]
     },
     "metadata": {
      "needs_background": "light"
     },
     "output_type": "display_data"
    }
   ],
   "source": [
    "sns.countplot(df.Country)\n",
    "xticks(rotation = 90)"
   ]
  },
  {
   "cell_type": "markdown",
   "metadata": {},
   "source": [
    "### Exploring \"City\" column"
   ]
  },
  {
   "cell_type": "code",
   "execution_count": 37,
   "metadata": {},
   "outputs": [
    {
     "data": {
      "text/plain": [
       "count         1261\n",
       "unique          38\n",
       "top       Gurugram\n",
       "freq           927\n",
       "Name: City, dtype: object"
      ]
     },
     "execution_count": 37,
     "metadata": {},
     "output_type": "execute_result"
    }
   ],
   "source": [
    "df.City.describe()"
   ]
  },
  {
   "cell_type": "code",
   "execution_count": 38,
   "metadata": {},
   "outputs": [
    {
     "data": {
      "text/plain": [
       "(Gurugram                      63.493151\n",
       " Mumbai                         7.671233\n",
       " Jaipur                         3.767123\n",
       " New Delhi                      3.356164\n",
       " Singapore                      1.917808\n",
       " Noida                          1.438356\n",
       " Bengaluru                      0.616438\n",
       " Sahibzada Ajit Singh Nagar     0.616438\n",
       " Alexandria                     0.342466\n",
       " Hyderabad                      0.342466\n",
       " Mandi Gobindgarh               0.342466\n",
       " Chandigarh                     0.205479\n",
       " Ludhiana                       0.205479\n",
       " Bambolim                       0.205479\n",
       " Sepang                         0.136986\n",
       " Alwar                          0.136986\n",
       " Los Angeles                    0.136986\n",
       " Dabolim                        0.068493\n",
       " Gurdaspur                      0.068493\n",
       " Fatehgarh Sahib                0.068493\n",
       " Sarhol                         0.068493\n",
       " Kukas                          0.068493\n",
       " Ghata                          0.068493\n",
       " Seattle                        0.068493\n",
       " Kolkata                        0.068493\n",
       " Kuala Lumpur                   0.068493\n",
       " गुरुग्राम                      0.068493\n",
       " Patiala                        0.068493\n",
       " Greater Noida                  0.068493\n",
       " San Antonio                    0.068493\n",
       " Kota                           0.068493\n",
       " Khanna                         0.068493\n",
       " Paota                          0.068493\n",
       " Amritsar                       0.068493\n",
       " Arpora                         0.068493\n",
       " New York                       0.068493\n",
       " Faridabad                      0.068493\n",
       " Haryana                        0.068493\n",
       " Name: City, dtype: float64, 2)"
      ]
     },
     "execution_count": 38,
     "metadata": {},
     "output_type": "execute_result"
    }
   ],
   "source": [
    "df['City'].value_counts()/len(df)*100,2"
   ]
  },
  {
   "cell_type": "code",
   "execution_count": 39,
   "metadata": {},
   "outputs": [
    {
     "data": {
      "text/plain": [
       "199"
      ]
     },
     "execution_count": 39,
     "metadata": {},
     "output_type": "execute_result"
    }
   ],
   "source": [
    "df['City'].isnull().sum()"
   ]
  },
  {
   "cell_type": "code",
   "execution_count": 40,
   "metadata": {},
   "outputs": [
    {
     "data": {
      "text/plain": [
       "count     1410\n",
       "unique      46\n",
       "top           \n",
       "freq       672\n",
       "Name: City2, dtype: object"
      ]
     },
     "execution_count": 40,
     "metadata": {},
     "output_type": "execute_result"
    }
   ],
   "source": [
    "df.City2.describe()"
   ]
  },
  {
   "cell_type": "code",
   "execution_count": 41,
   "metadata": {},
   "outputs": [
    {
     "data": {
      "text/plain": [
       "(                 46.027397\n",
       " GURGAON          31.164384\n",
       " ILD TRADE         3.219178\n",
       " MUMBAI            2.808219\n",
       " NINEX CITY        1.986301\n",
       " SINGAPORESGD      1.917808\n",
       " JAIPUR            1.643836\n",
       " ALANKAR PL        1.575342\n",
       " Delhi NCR         0.958904\n",
       " BANGALORE         0.616438\n",
       " NEW DELHI         0.479452\n",
       " GURUGRAM          0.410959\n",
       " Jaipur            0.410959\n",
       " HIGHWAY KI        0.342466\n",
       " FATEHGARH         0.273973\n",
       " LUDHIANA          0.205479\n",
       " BAMBOLIM          0.136986\n",
       " MPP               0.136986\n",
       " SEPANG            0.136986\n",
       " MOHALI            0.136986\n",
       " LONDONUSD         0.136986\n",
       " Gurgaon           0.136986\n",
       " HYDERABAD         0.136986\n",
       " KUALA LUMP        0.068493\n",
       " DABOLIM           0.068493\n",
       " New Delhi         0.068493\n",
       " FARIDABAD         0.068493\n",
       " ALWAR             0.068493\n",
       " GOBIND GAR        0.068493\n",
       " WWW.ICICIP        0.068493\n",
       " NOIDA             0.068493\n",
       " SALON             0.068493\n",
       " KOTA              0.068493\n",
       " PAOTA             0.068493\n",
       " KHANNA            0.068493\n",
       " 10GURGAON         0.068493\n",
       " AMRITSAR          0.068493\n",
       " Gurugram          0.068493\n",
       " DELHI             0.068493\n",
       " MPPNEW DELHI      0.068493\n",
       " PULAU PINAMYR     0.068493\n",
       " PATIALA           0.068493\n",
       " Mumbai            0.068493\n",
       " PARIS POIN        0.068493\n",
       " Gautam Bud        0.068493\n",
       " HTTPS://WW        0.068493\n",
       " Name: City2, dtype: float64, 2)"
      ]
     },
     "execution_count": 41,
     "metadata": {},
     "output_type": "execute_result"
    }
   ],
   "source": [
    "df['City2'].value_counts()/len(df)*100,2"
   ]
  },
  {
   "cell_type": "code",
   "execution_count": 42,
   "metadata": {},
   "outputs": [
    {
     "data": {
      "text/html": [
       "<div>\n",
       "<style scoped>\n",
       "    .dataframe tbody tr th:only-of-type {\n",
       "        vertical-align: middle;\n",
       "    }\n",
       "\n",
       "    .dataframe tbody tr th {\n",
       "        vertical-align: top;\n",
       "    }\n",
       "\n",
       "    .dataframe thead th {\n",
       "        text-align: right;\n",
       "    }\n",
       "</style>\n",
       "<table border=\"1\" class=\"dataframe\">\n",
       "  <thead>\n",
       "    <tr style=\"text-align: right;\">\n",
       "      <th></th>\n",
       "      <th>City</th>\n",
       "      <th>City2</th>\n",
       "    </tr>\n",
       "  </thead>\n",
       "  <tbody>\n",
       "    <tr>\n",
       "      <th>0</th>\n",
       "      <td>Gurugram</td>\n",
       "      <td>GURGAON</td>\n",
       "    </tr>\n",
       "    <tr>\n",
       "      <th>1</th>\n",
       "      <td>Gurugram</td>\n",
       "      <td></td>\n",
       "    </tr>\n",
       "    <tr>\n",
       "      <th>2</th>\n",
       "      <td>Gurugram</td>\n",
       "      <td></td>\n",
       "    </tr>\n",
       "    <tr>\n",
       "      <th>3</th>\n",
       "      <td>Gurugram</td>\n",
       "      <td>GURGAON</td>\n",
       "    </tr>\n",
       "    <tr>\n",
       "      <th>4</th>\n",
       "      <td>Gurugram</td>\n",
       "      <td>GURGAON</td>\n",
       "    </tr>\n",
       "    <tr>\n",
       "      <th>...</th>\n",
       "      <td>...</td>\n",
       "      <td>...</td>\n",
       "    </tr>\n",
       "    <tr>\n",
       "      <th>1465</th>\n",
       "      <td>Gurugram</td>\n",
       "      <td></td>\n",
       "    </tr>\n",
       "    <tr>\n",
       "      <th>1466</th>\n",
       "      <td>Gurugram</td>\n",
       "      <td></td>\n",
       "    </tr>\n",
       "    <tr>\n",
       "      <th>1467</th>\n",
       "      <td>Gurugram</td>\n",
       "      <td></td>\n",
       "    </tr>\n",
       "    <tr>\n",
       "      <th>1468</th>\n",
       "      <td>Gurugram</td>\n",
       "      <td>GURGAON</td>\n",
       "    </tr>\n",
       "    <tr>\n",
       "      <th>1469</th>\n",
       "      <td>Mumbai</td>\n",
       "      <td></td>\n",
       "    </tr>\n",
       "  </tbody>\n",
       "</table>\n",
       "<p>1460 rows × 2 columns</p>\n",
       "</div>"
      ],
      "text/plain": [
       "          City    City2\n",
       "0     Gurugram  GURGAON\n",
       "1     Gurugram         \n",
       "2     Gurugram         \n",
       "3     Gurugram  GURGAON\n",
       "4     Gurugram  GURGAON\n",
       "...        ...      ...\n",
       "1465  Gurugram         \n",
       "1466  Gurugram         \n",
       "1467  Gurugram         \n",
       "1468  Gurugram  GURGAON\n",
       "1469    Mumbai         \n",
       "\n",
       "[1460 rows x 2 columns]"
      ]
     },
     "execution_count": 42,
     "metadata": {},
     "output_type": "execute_result"
    }
   ],
   "source": [
    "df[['City', 'City2']]"
   ]
  },
  {
   "cell_type": "code",
   "execution_count": 43,
   "metadata": {},
   "outputs": [
    {
     "data": {
      "text/plain": [
       "50"
      ]
     },
     "execution_count": 43,
     "metadata": {},
     "output_type": "execute_result"
    }
   ],
   "source": [
    "df['City2'].isnull().sum()"
   ]
  },
  {
   "cell_type": "markdown",
   "metadata": {},
   "source": [
    "#### Replacing 'गुरुग्राम' with Gurugram and Missing values or NaN as Others"
   ]
  },
  {
   "cell_type": "code",
   "execution_count": 44,
   "metadata": {},
   "outputs": [
    {
     "data": {
      "text/plain": [
       "(Gurugram                      63.561644\n",
       " Others                        13.630137\n",
       " Mumbai                         7.671233\n",
       " Jaipur                         3.767123\n",
       " New Delhi                      3.356164\n",
       " Singapore                      1.917808\n",
       " Noida                          1.438356\n",
       " Sahibzada Ajit Singh Nagar     0.616438\n",
       " Bengaluru                      0.616438\n",
       " Alexandria                     0.342466\n",
       " Hyderabad                      0.342466\n",
       " Mandi Gobindgarh               0.342466\n",
       " Bambolim                       0.205479\n",
       " Chandigarh                     0.205479\n",
       " Ludhiana                       0.205479\n",
       " Alwar                          0.136986\n",
       " Sepang                         0.136986\n",
       " Los Angeles                    0.136986\n",
       " Ghata                          0.068493\n",
       " Sarhol                         0.068493\n",
       " Gurdaspur                      0.068493\n",
       " Kukas                          0.068493\n",
       " Dabolim                        0.068493\n",
       " Seattle                        0.068493\n",
       " Fatehgarh Sahib                0.068493\n",
       " Kolkata                        0.068493\n",
       " Kuala Lumpur                   0.068493\n",
       " Patiala                        0.068493\n",
       " Greater Noida                  0.068493\n",
       " San Antonio                    0.068493\n",
       " Kota                           0.068493\n",
       " Khanna                         0.068493\n",
       " Paota                          0.068493\n",
       " Amritsar                       0.068493\n",
       " Arpora                         0.068493\n",
       " New York                       0.068493\n",
       " Faridabad                      0.068493\n",
       " Haryana                        0.068493\n",
       " Name: City, dtype: float64, 2)"
      ]
     },
     "execution_count": 44,
     "metadata": {},
     "output_type": "execute_result"
    }
   ],
   "source": [
    "df['City'] = df['City'].replace(['गुरुग्राम'], 'Gurugram')\n",
    "df['City'] = df['City'].replace(np.nan, 'Others')\n",
    "df = df.drop(['City2'], axis = 1)\n",
    "df['City'].value_counts()/len(df)*100,2"
   ]
  },
  {
   "cell_type": "code",
   "execution_count": 45,
   "metadata": {},
   "outputs": [
    {
     "data": {
      "text/plain": [
       "0"
      ]
     },
     "execution_count": 45,
     "metadata": {},
     "output_type": "execute_result"
    }
   ],
   "source": [
    "df['City'].isnull().sum()"
   ]
  },
  {
   "cell_type": "markdown",
   "metadata": {},
   "source": [
    "### Exploring \"State\" column"
   ]
  },
  {
   "cell_type": "code",
   "execution_count": 46,
   "metadata": {},
   "outputs": [
    {
     "data": {
      "text/plain": [
       "(Haryana                             63.835616\n",
       " Maharashtra                          7.671233\n",
       " Rajasthan                            4.109589\n",
       " Delhi                                3.356164\n",
       " Punjab                               1.643836\n",
       " Uttar Pradesh                        1.506849\n",
       " Karnataka                            0.616438\n",
       " Goa                                  0.342466\n",
       " Virginia                             0.342466\n",
       " Telangana                            0.342466\n",
       " New York                             0.205479\n",
       " Selangor                             0.136986\n",
       " California                           0.136986\n",
       " Wilayah Persekutuan Kuala Lumpur     0.068493\n",
       " हरियाणा                              0.068493\n",
       " West Bengal                          0.068493\n",
       " Chandigarh                           0.068493\n",
       " Washington                           0.068493\n",
       " Texas                                0.068493\n",
       " Name: State, dtype: float64, 2)"
      ]
     },
     "execution_count": 46,
     "metadata": {},
     "output_type": "execute_result"
    }
   ],
   "source": [
    "df['State'].value_counts()/len(df)*100,2"
   ]
  },
  {
   "cell_type": "code",
   "execution_count": 47,
   "metadata": {},
   "outputs": [
    {
     "data": {
      "text/plain": [
       "224"
      ]
     },
     "execution_count": 47,
     "metadata": {},
     "output_type": "execute_result"
    }
   ],
   "source": [
    "df['State'].isnull().sum()"
   ]
  },
  {
   "cell_type": "markdown",
   "metadata": {},
   "source": [
    "#### Replacing 'हरियाणा' with Haryana and Missing values or NaN as Others"
   ]
  },
  {
   "cell_type": "code",
   "execution_count": 48,
   "metadata": {},
   "outputs": [
    {
     "data": {
      "text/plain": [
       "(Haryana                             63.904110\n",
       " Others                              15.342466\n",
       " Maharashtra                          7.671233\n",
       " Rajasthan                            4.109589\n",
       " Delhi                                3.356164\n",
       " Punjab                               1.643836\n",
       " Uttar Pradesh                        1.506849\n",
       " Karnataka                            0.616438\n",
       " Goa                                  0.342466\n",
       " Virginia                             0.342466\n",
       " Telangana                            0.342466\n",
       " New York                             0.205479\n",
       " Selangor                             0.136986\n",
       " California                           0.136986\n",
       " Wilayah Persekutuan Kuala Lumpur     0.068493\n",
       " West Bengal                          0.068493\n",
       " Chandigarh                           0.068493\n",
       " Washington                           0.068493\n",
       " Texas                                0.068493\n",
       " Name: State, dtype: float64, 2)"
      ]
     },
     "execution_count": 48,
     "metadata": {},
     "output_type": "execute_result"
    }
   ],
   "source": [
    "df['State'] = df['State'].replace(['हरियाणा'], 'Haryana')\n",
    "df['State'] = df['State'].replace(np.nan, 'Others')\n",
    "df['State'].value_counts()/len(df)*100,2"
   ]
  },
  {
   "cell_type": "code",
   "execution_count": 49,
   "metadata": {},
   "outputs": [
    {
     "data": {
      "text/plain": [
       "0"
      ]
     },
     "execution_count": 49,
     "metadata": {},
     "output_type": "execute_result"
    }
   ],
   "source": [
    "df['State'].isnull().sum()"
   ]
  },
  {
   "cell_type": "markdown",
   "metadata": {},
   "source": [
    "### Exploring \"Locality\" column"
   ]
  },
  {
   "cell_type": "code",
   "execution_count": 50,
   "metadata": {},
   "outputs": [
    {
     "data": {
      "text/plain": [
       "(Central Park II        15.410959\n",
       " Sector 42               6.232877\n",
       " Sohna Road              4.726027\n",
       " Gurgaon                 4.452055\n",
       " Block S                 2.876712\n",
       "                          ...    \n",
       " Gom Defence Colony      0.068493\n",
       " C Scheme                0.068493\n",
       " Central Secretariat     0.068493\n",
       " Haji Ali                0.068493\n",
       " Near Club Cubana        0.068493\n",
       " Name: Locality, Length: 185, dtype: float64, 2)"
      ]
     },
     "execution_count": 50,
     "metadata": {},
     "output_type": "execute_result"
    }
   ],
   "source": [
    "df['Locality'].value_counts()/len(df)*100,2"
   ]
  },
  {
   "cell_type": "code",
   "execution_count": 51,
   "metadata": {},
   "outputs": [
    {
     "data": {
      "text/plain": [
       "168"
      ]
     },
     "execution_count": 51,
     "metadata": {},
     "output_type": "execute_result"
    }
   ],
   "source": [
    "df['Locality'].isnull().sum()"
   ]
  },
  {
   "cell_type": "code",
   "execution_count": 52,
   "metadata": {},
   "outputs": [],
   "source": [
    "#### Replacing Missing values or NaN as Others"
   ]
  },
  {
   "cell_type": "code",
   "execution_count": 53,
   "metadata": {},
   "outputs": [
    {
     "data": {
      "text/plain": [
       "(Central Park II                15.410959\n",
       " Others                         11.506849\n",
       " Sector 42                       6.232877\n",
       " Sohna Road                      4.726027\n",
       " Gurgaon                         4.452055\n",
       "                                  ...    \n",
       " C Scheme                        0.068493\n",
       " Central Secretariat             0.068493\n",
       " Haji Ali                        0.068493\n",
       " Vishwakarma Industrial Area     0.068493\n",
       " Hall Gate                       0.068493\n",
       " Name: Locality, Length: 186, dtype: float64, 2)"
      ]
     },
     "execution_count": 53,
     "metadata": {},
     "output_type": "execute_result"
    }
   ],
   "source": [
    "df['Locality'] = df['Locality'].replace(np.nan, 'Others')\n",
    "df['Locality'].value_counts()/len(df)*100,2"
   ]
  },
  {
   "cell_type": "code",
   "execution_count": 54,
   "metadata": {},
   "outputs": [
    {
     "data": {
      "text/plain": [
       "0"
      ]
     },
     "execution_count": 54,
     "metadata": {},
     "output_type": "execute_result"
    }
   ],
   "source": [
    "df['Locality'].isnull().sum()"
   ]
  },
  {
   "cell_type": "markdown",
   "metadata": {},
   "source": [
    "### Checking the count Null values"
   ]
  },
  {
   "cell_type": "code",
   "execution_count": 55,
   "metadata": {},
   "outputs": [
    {
     "data": {
      "text/plain": [
       "Date                            0.0\n",
       "Description                     0.0\n",
       "InternationTransactionAmount    0.0\n",
       "Category                        0.0\n",
       "Amount                          0.0\n",
       "TransactionUserName             0.0\n",
       "TransactionType                 0.0\n",
       "IsoCurrency                     0.0\n",
       "Locality                        0.0\n",
       "City                            0.0\n",
       "State                           0.0\n",
       "Country                         0.0\n",
       "Description2                    0.0\n",
       "dtype: float64"
      ]
     },
     "execution_count": 55,
     "metadata": {},
     "output_type": "execute_result"
    }
   ],
   "source": [
    "round(100*(df.isnull().sum()/len(df.index)), 2)"
   ]
  },
  {
   "cell_type": "markdown",
   "metadata": {},
   "source": [
    "### ------------------------------------------------------------------------------------------------------------------------------------------------------------------"
   ]
  },
  {
   "cell_type": "markdown",
   "metadata": {},
   "source": [
    "#### Exploring \"Amount\" column"
   ]
  },
  {
   "cell_type": "code",
   "execution_count": 56,
   "metadata": {},
   "outputs": [
    {
     "data": {
      "text/plain": [
       "(-50        1.643836\n",
       " -140       1.027397\n",
       " -350       0.958904\n",
       " -75        0.890411\n",
       " -154       0.821918\n",
       "              ...   \n",
       " -42.13     0.068493\n",
       " -475.95    0.068493\n",
       " -1902      0.068493\n",
       " -5400      0.068493\n",
       " -2357      0.068493\n",
       " Name: Amount, Length: 988, dtype: float64, 2)"
      ]
     },
     "execution_count": 56,
     "metadata": {},
     "output_type": "execute_result"
    }
   ],
   "source": [
    "df['Amount'].value_counts()/len(df)*100,2"
   ]
  },
  {
   "cell_type": "markdown",
   "metadata": {},
   "source": [
    "#### Since Transaction Amount can not be negative, we are taking absolute value"
   ]
  },
  {
   "cell_type": "code",
   "execution_count": 57,
   "metadata": {},
   "outputs": [
    {
     "name": "stdout",
     "output_type": "stream",
     "text": [
      "Min is : 0.01\n",
      "Max is : 700000.0\n"
     ]
    }
   ],
   "source": [
    "df['Amount'] = df['Amount'].astype(float)\n",
    "df['Amount'] = df['Amount'].abs()\n",
    "print(\"Min is :\", df.Amount.min())\n",
    "print(\"Max is :\", df.Amount.max())"
   ]
  },
  {
   "cell_type": "code",
   "execution_count": 58,
   "metadata": {},
   "outputs": [
    {
     "data": {
      "text/plain": [
       "(0         97.739726\n",
       " 8          0.068493\n",
       " 60.89      0.068493\n",
       " 22.8       0.068493\n",
       " 84.7       0.068493\n",
       " 80.8       0.068493\n",
       " 274        0.068493\n",
       " 368        0.068493\n",
       " 105        0.068493\n",
       " 5          0.068493\n",
       " 214.4      0.068493\n",
       " 12.3       0.068493\n",
       " 489.63     0.068493\n",
       " 669.74     0.068493\n",
       " 5.5        0.068493\n",
       " 778.74     0.068493\n",
       " 36         0.068493\n",
       " 13         0.068493\n",
       " 14.4       0.068493\n",
       " 99.9       0.068493\n",
       " 31.83      0.068493\n",
       " 209        0.068493\n",
       " 183.95     0.068493\n",
       " 227        0.068493\n",
       " 61.77      0.068493\n",
       " 19.17      0.068493\n",
       " 238.73     0.068493\n",
       " 21.2       0.068493\n",
       " 42         0.068493\n",
       " 63.56      0.068493\n",
       " 95         0.068493\n",
       " 34.4       0.068493\n",
       " 1.95       0.068493\n",
       " 65.33      0.068493\n",
       " Name: InternationTransactionAmount, dtype: float64, 2)"
      ]
     },
     "execution_count": 58,
     "metadata": {},
     "output_type": "execute_result"
    }
   ],
   "source": [
    "df['InternationTransactionAmount'].value_counts()/len(df)*100,2"
   ]
  },
  {
   "cell_type": "code",
   "execution_count": 59,
   "metadata": {},
   "outputs": [
    {
     "name": "stdout",
     "output_type": "stream",
     "text": [
      "Min is : 0.0\n",
      "Max is :  778.74\n"
     ]
    }
   ],
   "source": [
    "df['InternationTransactionAmount'] = df['InternationTransactionAmount'].astype(float)\n",
    "print(\"Min is :\", df.InternationTransactionAmount.min())\n",
    "print(\"Max is : \", df.InternationTransactionAmount.max())"
   ]
  },
  {
   "cell_type": "markdown",
   "metadata": {},
   "source": [
    "#### Exploring \"TransactionType\" column"
   ]
  },
  {
   "cell_type": "code",
   "execution_count": 60,
   "metadata": {},
   "outputs": [
    {
     "data": {
      "text/plain": [
       "(       Domestic    97.739726\n",
       "   International     2.260274\n",
       " Name: TransactionType, dtype: float64, 2)"
      ]
     },
     "execution_count": 60,
     "metadata": {},
     "output_type": "execute_result"
    }
   ],
   "source": [
    "df['TransactionType'].value_counts()/len(df)*100,2"
   ]
  },
  {
   "cell_type": "code",
   "execution_count": 61,
   "metadata": {},
   "outputs": [
    {
     "data": {
      "text/plain": [
       "(array([0, 1]), <a list of 2 Text xticklabel objects>)"
      ]
     },
     "execution_count": 61,
     "metadata": {},
     "output_type": "execute_result"
    },
    {
     "data": {
      "image/png": "[encoded data removed]",
      "text/plain": [
       "<Figure size 432x288 with 1 Axes>"
      ]
     },
     "metadata": {
      "needs_background": "light"
     },
     "output_type": "display_data"
    }
   ],
   "source": [
    "sns.countplot(df.TransactionType)\n",
    "xticks(rotation = 90)"
   ]
  },
  {
   "cell_type": "markdown",
   "metadata": {},
   "source": [
    "#### Exploring \"IsoCurrency\" column"
   ]
  },
  {
   "cell_type": "code",
   "execution_count": 62,
   "metadata": {},
   "outputs": [
    {
     "data": {
      "text/plain": [
       "(INR    97.739726\n",
       " SGD     2.054795\n",
       " USD     0.136986\n",
       " MYR     0.068493\n",
       " Name: IsoCurrency, dtype: float64, 2)"
      ]
     },
     "execution_count": 62,
     "metadata": {},
     "output_type": "execute_result"
    }
   ],
   "source": [
    "df['IsoCurrency'].value_counts()/len(df)*100,2"
   ]
  },
  {
   "cell_type": "code",
   "execution_count": 63,
   "metadata": {},
   "outputs": [
    {
     "data": {
      "text/plain": [
       "(array([0, 1, 2, 3]), <a list of 4 Text xticklabel objects>)"
      ]
     },
     "execution_count": 63,
     "metadata": {},
     "output_type": "execute_result"
    },
    {
     "data": {
      "image/png": "[encoded data removed]",
      "text/plain": [
       "<Figure size 432x288 with 1 Axes>"
      ]
     },
     "metadata": {
      "needs_background": "light"
     },
     "output_type": "display_data"
    }
   ],
   "source": [
    "sns.countplot(df.IsoCurrency)\n",
    "xticks(rotation = 90)"
   ]
  },
  {
   "cell_type": "code",
   "execution_count": 64,
   "metadata": {},
   "outputs": [],
   "source": [
    "df['IsoCurrency'] = df['IsoCurrency'].replace(['USD', 'MYR'], 'Others')"
   ]
  },
  {
   "cell_type": "code",
   "execution_count": 65,
   "metadata": {},
   "outputs": [
    {
     "data": {
      "text/plain": [
       "(INR       97.739726\n",
       " SGD        2.054795\n",
       " Others     0.205479\n",
       " Name: IsoCurrency, dtype: float64, 2)"
      ]
     },
     "execution_count": 65,
     "metadata": {},
     "output_type": "execute_result"
    }
   ],
   "source": [
    "df['IsoCurrency'].value_counts()/len(df)*100,2"
   ]
  },
  {
   "cell_type": "code",
   "execution_count": 66,
   "metadata": {},
   "outputs": [
    {
     "data": {
      "text/plain": [
       "(array([0, 1, 2]), <a list of 3 Text xticklabel objects>)"
      ]
     },
     "execution_count": 66,
     "metadata": {},
     "output_type": "execute_result"
    },
    {
     "data": {
      "image/png": "[encoded data removed]",
      "text/plain": [
       "<Figure size 432x288 with 1 Axes>"
      ]
     },
     "metadata": {
      "needs_background": "light"
     },
     "output_type": "display_data"
    }
   ],
   "source": [
    "sns.countplot(df.IsoCurrency)\n",
    "xticks(rotation = 90)"
   ]
  },
  {
   "cell_type": "markdown",
   "metadata": {},
   "source": [
    "#### Exploring \"TransactionUserName\" column"
   ]
  },
  {
   "cell_type": "code",
   "execution_count": 67,
   "metadata": {},
   "outputs": [
    {
     "data": {
      "text/plain": [
       "(         JASJIT KAUR    51.575342\n",
       "        VIBHORE GOYAL    43.972603\n",
       "           INDU GOYAL     4.452055\n",
       " Name: TransactionUserName, dtype: float64, 2)"
      ]
     },
     "execution_count": 67,
     "metadata": {},
     "output_type": "execute_result"
    }
   ],
   "source": [
    "df['TransactionUserName'].value_counts()/len(df)*100,2"
   ]
  },
  {
   "cell_type": "code",
   "execution_count": 68,
   "metadata": {},
   "outputs": [
    {
     "data": {
      "text/plain": [
       "(array([0, 1, 2]), <a list of 3 Text xticklabel objects>)"
      ]
     },
     "execution_count": 68,
     "metadata": {},
     "output_type": "execute_result"
    },
    {
     "data": {
      "image/png": "[encoded data removed]",
      "text/plain": [
       "<Figure size 432x288 with 1 Axes>"
      ]
     },
     "metadata": {
      "needs_background": "light"
     },
     "output_type": "display_data"
    }
   ],
   "source": [
    "sns.countplot(df.TransactionUserName)\n",
    "xticks(rotation = 90)"
   ]
  },
  {
   "cell_type": "markdown",
   "metadata": {},
   "source": [
    "#### Exploring \"Category\" column"
   ]
  },
  {
   "cell_type": "code",
   "execution_count": 69,
   "metadata": {},
   "outputs": [
    {
     "data": {
      "text/plain": [
       "(                                  34.520548\n",
       "                   Cafe company    10.068493\n",
       "                     Video game     8.561644\n",
       "                        Company     3.356164\n",
       "                    Hotel brand     2.739726\n",
       "                                     ...    \n",
       "         Song by Chris Costanzo     0.068493\n",
       "              Chemical compound     0.068493\n",
       "  Multi-level marketing company     0.068493\n",
       "                   Mobile phone     0.068493\n",
       "                      2018 film     0.068493\n",
       " Name: Category, Length: 149, dtype: float64, 2)"
      ]
     },
     "execution_count": 69,
     "metadata": {},
     "output_type": "execute_result"
    }
   ],
   "source": [
    "df['Category'].value_counts()/len(df)*100,2"
   ]
  },
  {
   "cell_type": "code",
   "execution_count": 70,
   "metadata": {},
   "outputs": [],
   "source": [
    "df['Category'] = df['Category'].replace(r'^\\s*$', np.nan, regex=True)\n",
    "df['Category'] = df['Category'].replace(np.nan, 'Misc')\n",
    "df['Category'] = df['Category'].str.strip()"
   ]
  },
  {
   "cell_type": "code",
   "execution_count": 71,
   "metadata": {},
   "outputs": [
    {
     "data": {
      "text/plain": [
       "(Misc                   34.520548\n",
       " Cafe company           10.068493\n",
       " Video game              8.561644\n",
       " Company                 3.356164\n",
       " Hotel brand             2.739726\n",
       "                          ...    \n",
       " Book by Jean Ferris     0.068493\n",
       " Indian actor            0.068493\n",
       " Operation               0.068493\n",
       " 2018 film               0.068493\n",
       " Song by Devi            0.068493\n",
       " Name: Category, Length: 149, dtype: float64, 2)"
      ]
     },
     "execution_count": 71,
     "metadata": {},
     "output_type": "execute_result"
    }
   ],
   "source": [
    "df['Category'].value_counts()/len(df)*100,2"
   ]
  },
  {
   "cell_type": "markdown",
   "metadata": {},
   "source": [
    "#### Exploring \"Description2\" column"
   ]
  },
  {
   "cell_type": "code",
   "execution_count": 72,
   "metadata": {},
   "outputs": [
    {
     "data": {
      "text/plain": [
       "(THE ROOM                                                               8.356164\n",
       " CAFE COFFEE DAY                                                        7.191781\n",
       " THE ROOMGURGAON                                                        5.753425\n",
       " Planet Needs                                                           2.671233\n",
       " AMAZON SELLER SERVICES MUMBAI                                          2.465753\n",
       "                                                                          ...   \n",
       " ORIENT ELECTRIC HOUSE P                                                0.068493\n",
       " PRIYANKA WATCH COLLECTIGURGAON                                         0.068493\n",
       " IGST-VPS1904603769707-RATE 18.0 -06 (Ref# VT190460069013100000056)     0.068493\n",
       " INOX JAIPUR SPACE                                                      0.068493\n",
       " WWWW DOMINOS CO IN                                                     0.068493\n",
       " Name: Description2, Length: 473, dtype: float64, 2)"
      ]
     },
     "execution_count": 72,
     "metadata": {},
     "output_type": "execute_result"
    }
   ],
   "source": [
    "df['Description2'].value_counts()/len(df)*100,2"
   ]
  },
  {
   "cell_type": "markdown",
   "metadata": {},
   "source": [
    "### ------------------------------------------------------------------------------------------------------------------------------------------------------------------"
   ]
  },
  {
   "cell_type": "code",
   "execution_count": 73,
   "metadata": {},
   "outputs": [],
   "source": [
    "categories2 = {'Restaurant company': 'Food',\n",
    "               'Fast food company': 'Food' ,\n",
    "               'Cafe company': 'Food',\n",
    "               'Coffeehouse company': 'Food' ,\n",
    "               'Fast food restaurant company': 'Food' ,\n",
    "               'Online food ordering company': 'Food',\n",
    "               'Pasta': 'Food' ,\n",
    "               'Food': 'Food',\n",
    "               'King' : 'Food',\n",
    "               'Hotel brand': 'Travel',\n",
    "               'Hotel company':'Travel' ,\n",
    "               'Hotel chain': 'Travel',\n",
    "               'Video game' : 'Game',\n",
    "               '1988 film':'Entertainment',\n",
    "               'Indian actress':'Entertainment',\n",
    "               'American television program':'Entertainment',\n",
    "               'Band':'Entertainment',\n",
    "               'Cinema company':'Entertainment',\n",
    "               'American actor':'Entertainment',\n",
    "               'Canadian model':'Entertainment',\n",
    "               '2015 film':'Entertainment',\n",
    "               'Radio station':'Entertainment',\n",
    "               'Telecommunications company':'Entertainment',\n",
    "               'Private club':'Entertainment',\n",
    "               'American actress':'Shopping',\n",
    "               'Canadian singer-songwriter':'Shopping',\n",
    "               'Song by Queen':'Shopping',\n",
    "               'Television series':'Entertainment',\n",
    "               'American sitcom':'Entertainment',\n",
    "               'Indian television actor':'Shopping',\n",
    "               '1993 film':'Entertainment',\n",
    "               '1976 film':'Entertainment',\n",
    "               'Song':'Entertainment',\n",
    "               'Indian film actor':'Shopping',\n",
    "               'American-German model':'Shopping',\n",
    "               'American singer-songwriter':'Shopping',\n",
    "               'Song by 4Joy':'Entertainment',\n",
    "               '2018 film':'Entertainment',\n",
    "               '1984 film':'Entertainment',\n",
    "               '2017 film':'Entertainment',\n",
    "               '2014 film' :'Entertainment',\n",
    "               'American film actress':'Shopping',\n",
    "               '1967 film':'Entertainment',\n",
    "               'Song by Devi':'Entertainment',\n",
    "               'Television channel':'Entertainment',\n",
    "               'Broadcasting service':'Entertainment',\n",
    "               '1989 film':'Entertainment',\n",
    "               'Song by Chris Costanzo':'Entertainment',\n",
    "               'Song by Rhye':'Entertainment',\n",
    "               'Song by The Botherers':'Entertainment',\n",
    "               'Television company':'Entertainment',\n",
    "               '2001 film':'Entertainment', \n",
    "               'Indian actor':'Shopping',\n",
    "               \n",
    "               'Electronics retail company': 'Shopping',\n",
    "               'Ridesharing company': 'Travel',\n",
    "               'Company': 'Shopping',\n",
    "               'Health care company': 'Health',\n",
    "               'E-commerce company': 'Shopping',\n",
    "               'Retail company': 'Shopping',\n",
    "               'Corporation': 'Shopping',\n",
    "               'Insurance company': 'Health',\n",
    "               'Department store company': 'Shopping',\n",
    "               'Clothing retail company': 'Shopping',\n",
    "               'Entertainment company': 'Shopping',\n",
    "               'Hospitality company': 'Health',\n",
    "               'Fashion company': 'Shopping',\n",
    "               'Railway company': 'Travel',\n",
    "               'Hardware store company': 'Shopping',\n",
    "               'Multinational conglomerate company': 'Shopping',\n",
    "               'Production company': 'Shopping',\n",
    "               'Cosmetics company': 'Shopping',\n",
    "               'Mobile network provider company': 'Shopping',\n",
    "               'VFX company': 'Entertainment',\n",
    "               'Retail chain company': 'Shopping',\n",
    "               'Multi-level marketing company': 'Shopping',\n",
    "               'Technology company': 'Shopping',\n",
    "               'Supermarket company': 'Shopping',\n",
    "               'State-owned enterprise': 'Shopping',\n",
    "               \n",
    "               'Novel by Jules Verne': 'Books',\n",
    "               'Novel by Jane Austen': 'Books',\n",
    "               'Poem by Tulsidas': 'Books',\n",
    "               'Book by Alan Beaulieu': 'Books',\n",
    "               'Novel by Tamsyn Muir': 'Books',\n",
    "               'Book by Eric Carle': 'Books',\n",
    "               'Book by A. C. Bhaktivedanta Swami Prabhupada': 'Books',\n",
    "               'Book by Jean Ferris':'Books',\n",
    "               'Book by Tavleen Singh': 'Books',\n",
    "               'Book by Rudyard Kipling': 'Books',\n",
    "               'Book by Thomas Sowell': 'Books',\n",
    "               'Novel by Jonathan Maberry': 'Books',\n",
    "               'Novel by Lewis Carroll': 'Books',\n",
    "               'International airline' : 'Travel',\n",
    "               'Arline' : 'Travel'\n",
    "              }\n"
   ]
  },
  {
   "cell_type": "code",
   "execution_count": null,
   "metadata": {},
   "outputs": [],
   "source": []
  },
  {
   "cell_type": "code",
   "execution_count": null,
   "metadata": {},
   "outputs": [],
   "source": []
  },
  {
   "cell_type": "code",
   "execution_count": 74,
   "metadata": {},
   "outputs": [],
   "source": [
    "df['Categorization'] = df['Category'].map(categories2)"
   ]
  },
  {
   "cell_type": "code",
   "execution_count": 75,
   "metadata": {},
   "outputs": [
    {
     "data": {
      "text/plain": [
       "count      780\n",
       "unique       7\n",
       "top       Food\n",
       "freq       228\n",
       "Name: Categorization, dtype: object"
      ]
     },
     "execution_count": 75,
     "metadata": {},
     "output_type": "execute_result"
    }
   ],
   "source": [
    "df['Categorization'].describe()"
   ]
  },
  {
   "cell_type": "code",
   "execution_count": 76,
   "metadata": {},
   "outputs": [
    {
     "data": {
      "text/plain": [
       "(Food             15.616438\n",
       " Shopping         13.904110\n",
       " Game              8.561644\n",
       " Entertainment     7.602740\n",
       " Travel            4.520548\n",
       " Books             2.739726\n",
       " Health            0.479452\n",
       " Name: Categorization, dtype: float64, 2)"
      ]
     },
     "execution_count": 76,
     "metadata": {},
     "output_type": "execute_result"
    }
   ],
   "source": [
    "df['Categorization'].value_counts()/len(df)*100,2"
   ]
  },
  {
   "cell_type": "code",
   "execution_count": 77,
   "metadata": {},
   "outputs": [
    {
     "data": {
      "text/plain": [
       "(array([0, 1, 2, 3, 4, 5, 6]), <a list of 7 Text xticklabel objects>)"
      ]
     },
     "execution_count": 77,
     "metadata": {},
     "output_type": "execute_result"
    },
    {
     "data": {
      "image/png": "[encoded data removed]",
      "text/plain": [
       "<Figure size 432x288 with 1 Axes>"
      ]
     },
     "metadata": {
      "needs_background": "light"
     },
     "output_type": "display_data"
    }
   ],
   "source": [
    "sns.countplot(df.Categorization)\n",
    "xticks(rotation = 90)"
   ]
  },
  {
   "cell_type": "code",
   "execution_count": 78,
   "metadata": {},
   "outputs": [
    {
     "data": {
      "text/plain": [
       "680"
      ]
     },
     "execution_count": 78,
     "metadata": {},
     "output_type": "execute_result"
    }
   ],
   "source": [
    "df['Categorization'].isnull().sum()"
   ]
  },
  {
   "cell_type": "code",
   "execution_count": 79,
   "metadata": {},
   "outputs": [],
   "source": [
    "df['Categorization'] = df['Categorization'].replace(np.nan, 'Misc')"
   ]
  },
  {
   "cell_type": "code",
   "execution_count": 80,
   "metadata": {},
   "outputs": [
    {
     "data": {
      "text/plain": [
       "(array([0, 1, 2, 3, 4, 5, 6, 7]), <a list of 8 Text xticklabel objects>)"
      ]
     },
     "execution_count": 80,
     "metadata": {},
     "output_type": "execute_result"
    },
    {
     "data": {
      "image/png": "[encoded data removed]",
      "text/plain": [
       "<Figure size 432x288 with 1 Axes>"
      ]
     },
     "metadata": {
      "needs_background": "light"
     },
     "output_type": "display_data"
    }
   ],
   "source": [
    "sns.countplot(df.Categorization)\n",
    "xticks(rotation = 90)"
   ]
  },
  {
   "cell_type": "code",
   "execution_count": 81,
   "metadata": {},
   "outputs": [],
   "source": [
    "df[\"Date\"]= pd.to_datetime(df[\"Date\"])"
   ]
  },
  {
   "cell_type": "code",
   "execution_count": 82,
   "metadata": {},
   "outputs": [],
   "source": [
    "def fix_date(series, patterns=['%Y%m%d', '%d%m%Y', '%d/%m/%Y', '%d-%b-%Y']):\n",
    "    datetimes = []\n",
    "    for pat in patterns:\n",
    "        datetimes.append(pd.to_datetime(series, format=pat, errors='coerce'))\n",
    "    return pd.concat(datetimes, axis=1).ffill(axis=1).iloc[:, -1]\n",
    "\n",
    "df['Date'] = fix_date(df['Date'])"
   ]
  },
  {
   "cell_type": "code",
   "execution_count": 83,
   "metadata": {},
   "outputs": [],
   "source": [
    "df['Day'] = df['Date'].dt.day\n",
    "df['Month'] = df['Date'].dt.month\n",
    "df['Year'] = df['Date'].dt.year"
   ]
  },
  {
   "cell_type": "code",
   "execution_count": 84,
   "metadata": {},
   "outputs": [
    {
     "data": {
      "text/html": [
       "<div>\n",
       "<style scoped>\n",
       "    .dataframe tbody tr th:only-of-type {\n",
       "        vertical-align: middle;\n",
       "    }\n",
       "\n",
       "    .dataframe tbody tr th {\n",
       "        vertical-align: top;\n",
       "    }\n",
       "\n",
       "    .dataframe thead th {\n",
       "        text-align: right;\n",
       "    }\n",
       "</style>\n",
       "<table border=\"1\" class=\"dataframe\">\n",
       "  <thead>\n",
       "    <tr style=\"text-align: right;\">\n",
       "      <th></th>\n",
       "      <th>Date</th>\n",
       "      <th>Description</th>\n",
       "      <th>InternationTransactionAmount</th>\n",
       "      <th>Category</th>\n",
       "      <th>Amount</th>\n",
       "      <th>TransactionUserName</th>\n",
       "      <th>TransactionType</th>\n",
       "      <th>IsoCurrency</th>\n",
       "      <th>Locality</th>\n",
       "      <th>City</th>\n",
       "      <th>State</th>\n",
       "      <th>Country</th>\n",
       "      <th>Description2</th>\n",
       "      <th>Categorization</th>\n",
       "      <th>Day</th>\n",
       "      <th>Month</th>\n",
       "      <th>Year</th>\n",
       "    </tr>\n",
       "  </thead>\n",
       "  <tbody>\n",
       "    <tr>\n",
       "      <th>0</th>\n",
       "      <td>2019-12-12</td>\n",
       "      <td>THE ROOM               GURGAON                ...</td>\n",
       "      <td>0.0</td>\n",
       "      <td>Video game</td>\n",
       "      <td>127.00</td>\n",
       "      <td>VIBHORE GOYAL</td>\n",
       "      <td>Domestic</td>\n",
       "      <td>INR</td>\n",
       "      <td>Central Park II</td>\n",
       "      <td>Gurugram</td>\n",
       "      <td>Haryana</td>\n",
       "      <td>India</td>\n",
       "      <td>THE ROOM</td>\n",
       "      <td>Game</td>\n",
       "      <td>12</td>\n",
       "      <td>12</td>\n",
       "      <td>2019</td>\n",
       "    </tr>\n",
       "    <tr>\n",
       "      <th>1</th>\n",
       "      <td>2019-12-12</td>\n",
       "      <td>CUT AND STYLEGURGAON                          ...</td>\n",
       "      <td>0.0</td>\n",
       "      <td>Occupation</td>\n",
       "      <td>499.00</td>\n",
       "      <td>JASJIT KAUR</td>\n",
       "      <td>Domestic</td>\n",
       "      <td>INR</td>\n",
       "      <td>Sector 4</td>\n",
       "      <td>Gurugram</td>\n",
       "      <td>Haryana</td>\n",
       "      <td>India</td>\n",
       "      <td>CUT AND STYLEGURGAON</td>\n",
       "      <td>Misc</td>\n",
       "      <td>12</td>\n",
       "      <td>12</td>\n",
       "      <td>2019</td>\n",
       "    </tr>\n",
       "    <tr>\n",
       "      <th>2</th>\n",
       "      <td>2019-12-12</td>\n",
       "      <td>MUMUSOGURGAON                                 ...</td>\n",
       "      <td>0.0</td>\n",
       "      <td>Misc</td>\n",
       "      <td>388.00</td>\n",
       "      <td>JASJIT KAUR</td>\n",
       "      <td>Domestic</td>\n",
       "      <td>INR</td>\n",
       "      <td>Sector 49</td>\n",
       "      <td>Gurugram</td>\n",
       "      <td>Haryana</td>\n",
       "      <td>India</td>\n",
       "      <td>MUMUSOGURGAON</td>\n",
       "      <td>Misc</td>\n",
       "      <td>12</td>\n",
       "      <td>12</td>\n",
       "      <td>2019</td>\n",
       "    </tr>\n",
       "    <tr>\n",
       "      <th>3</th>\n",
       "      <td>2019-12-12</td>\n",
       "      <td>THE ROOM               GURGAON                ...</td>\n",
       "      <td>0.0</td>\n",
       "      <td>Video game</td>\n",
       "      <td>108.00</td>\n",
       "      <td>VIBHORE GOYAL</td>\n",
       "      <td>Domestic</td>\n",
       "      <td>INR</td>\n",
       "      <td>Central Park II</td>\n",
       "      <td>Gurugram</td>\n",
       "      <td>Haryana</td>\n",
       "      <td>India</td>\n",
       "      <td>THE ROOM</td>\n",
       "      <td>Game</td>\n",
       "      <td>12</td>\n",
       "      <td>12</td>\n",
       "      <td>2019</td>\n",
       "    </tr>\n",
       "    <tr>\n",
       "      <th>4</th>\n",
       "      <td>2019-12-12</td>\n",
       "      <td>THE ROOM               GURGAON                ...</td>\n",
       "      <td>0.0</td>\n",
       "      <td>Video game</td>\n",
       "      <td>50.00</td>\n",
       "      <td>VIBHORE GOYAL</td>\n",
       "      <td>Domestic</td>\n",
       "      <td>INR</td>\n",
       "      <td>Central Park II</td>\n",
       "      <td>Gurugram</td>\n",
       "      <td>Haryana</td>\n",
       "      <td>India</td>\n",
       "      <td>THE ROOM</td>\n",
       "      <td>Game</td>\n",
       "      <td>12</td>\n",
       "      <td>12</td>\n",
       "      <td>2019</td>\n",
       "    </tr>\n",
       "    <tr>\n",
       "      <th>5</th>\n",
       "      <td>2019-12-13</td>\n",
       "      <td>JAIPUR SPACEJAIPUR                            ...</td>\n",
       "      <td>0.0</td>\n",
       "      <td>City in India</td>\n",
       "      <td>360.00</td>\n",
       "      <td>JASJIT KAUR</td>\n",
       "      <td>Domestic</td>\n",
       "      <td>INR</td>\n",
       "      <td>Sector 9</td>\n",
       "      <td>Jaipur</td>\n",
       "      <td>Rajasthan</td>\n",
       "      <td>India</td>\n",
       "      <td>JAIPUR SPACEJAIPUR</td>\n",
       "      <td>Misc</td>\n",
       "      <td>13</td>\n",
       "      <td>12</td>\n",
       "      <td>2019</td>\n",
       "    </tr>\n",
       "    <tr>\n",
       "      <th>6</th>\n",
       "      <td>2019-12-13</td>\n",
       "      <td>CAFE COFFEE DAYHIGHWAY KI                     ...</td>\n",
       "      <td>0.0</td>\n",
       "      <td>Cafe company</td>\n",
       "      <td>286.00</td>\n",
       "      <td>JASJIT KAUR</td>\n",
       "      <td>Domestic</td>\n",
       "      <td>INR</td>\n",
       "      <td>Others</td>\n",
       "      <td>Others</td>\n",
       "      <td>Others</td>\n",
       "      <td>Others</td>\n",
       "      <td>CAFE COFFEE DAYHIGHWAY KI</td>\n",
       "      <td>Food</td>\n",
       "      <td>13</td>\n",
       "      <td>12</td>\n",
       "      <td>2019</td>\n",
       "    </tr>\n",
       "    <tr>\n",
       "      <th>7</th>\n",
       "      <td>2019-12-14</td>\n",
       "      <td>CAFE COFFEE DAYALANKAR PL                     ...</td>\n",
       "      <td>0.0</td>\n",
       "      <td>Cafe company</td>\n",
       "      <td>786.00</td>\n",
       "      <td>JASJIT KAUR</td>\n",
       "      <td>Domestic</td>\n",
       "      <td>INR</td>\n",
       "      <td>Others</td>\n",
       "      <td>Others</td>\n",
       "      <td>Others</td>\n",
       "      <td>Others</td>\n",
       "      <td>CAFE COFFEE DAYALANKAR PL</td>\n",
       "      <td>Food</td>\n",
       "      <td>14</td>\n",
       "      <td>12</td>\n",
       "      <td>2019</td>\n",
       "    </tr>\n",
       "    <tr>\n",
       "      <th>8</th>\n",
       "      <td>2019-12-15</td>\n",
       "      <td>LIFE STYLE INTERNATIONAJAIPUR                 ...</td>\n",
       "      <td>0.0</td>\n",
       "      <td>Misc</td>\n",
       "      <td>1698.00</td>\n",
       "      <td>VIBHORE GOYAL</td>\n",
       "      <td>Domestic</td>\n",
       "      <td>INR</td>\n",
       "      <td>Durgadas Colony</td>\n",
       "      <td>Jaipur</td>\n",
       "      <td>Rajasthan</td>\n",
       "      <td>India</td>\n",
       "      <td>LIFE STYLE INTERNATIONAJAIPUR</td>\n",
       "      <td>Misc</td>\n",
       "      <td>15</td>\n",
       "      <td>12</td>\n",
       "      <td>2019</td>\n",
       "    </tr>\n",
       "    <tr>\n",
       "      <th>9</th>\n",
       "      <td>2019-12-15</td>\n",
       "      <td>NEW U 47                 JAIPUR               ...</td>\n",
       "      <td>0.0</td>\n",
       "      <td>New York City borough</td>\n",
       "      <td>1890.00</td>\n",
       "      <td>VIBHORE GOYAL</td>\n",
       "      <td>Domestic</td>\n",
       "      <td>INR</td>\n",
       "      <td>Jaipur</td>\n",
       "      <td>Jaipur</td>\n",
       "      <td>Rajasthan</td>\n",
       "      <td>India</td>\n",
       "      <td>NEW U 47</td>\n",
       "      <td>Misc</td>\n",
       "      <td>15</td>\n",
       "      <td>12</td>\n",
       "      <td>2019</td>\n",
       "    </tr>\n",
       "    <tr>\n",
       "      <th>10</th>\n",
       "      <td>2019-12-15</td>\n",
       "      <td>COCONUT RESTAURANTJAIPUR                      ...</td>\n",
       "      <td>0.0</td>\n",
       "      <td>Plants</td>\n",
       "      <td>715.00</td>\n",
       "      <td>JASJIT KAUR</td>\n",
       "      <td>Domestic</td>\n",
       "      <td>INR</td>\n",
       "      <td>Subash Nagar</td>\n",
       "      <td>Jaipur</td>\n",
       "      <td>Rajasthan</td>\n",
       "      <td>India</td>\n",
       "      <td>COCONUT RESTAURANTJAIPUR</td>\n",
       "      <td>Misc</td>\n",
       "      <td>15</td>\n",
       "      <td>12</td>\n",
       "      <td>2019</td>\n",
       "    </tr>\n",
       "    <tr>\n",
       "      <th>11</th>\n",
       "      <td>2019-12-15</td>\n",
       "      <td>CAFE COFFEE DAYALANKAR PL                     ...</td>\n",
       "      <td>0.0</td>\n",
       "      <td>Cafe company</td>\n",
       "      <td>591.00</td>\n",
       "      <td>JASJIT KAUR</td>\n",
       "      <td>Domestic</td>\n",
       "      <td>INR</td>\n",
       "      <td>Others</td>\n",
       "      <td>Others</td>\n",
       "      <td>Others</td>\n",
       "      <td>Others</td>\n",
       "      <td>CAFE COFFEE DAYALANKAR PL</td>\n",
       "      <td>Food</td>\n",
       "      <td>15</td>\n",
       "      <td>12</td>\n",
       "      <td>2019</td>\n",
       "    </tr>\n",
       "    <tr>\n",
       "      <th>12</th>\n",
       "      <td>2019-12-16</td>\n",
       "      <td>UCBJAIPUR                                     ...</td>\n",
       "      <td>0.0</td>\n",
       "      <td>Misc</td>\n",
       "      <td>325.00</td>\n",
       "      <td>JASJIT KAUR</td>\n",
       "      <td>Domestic</td>\n",
       "      <td>INR</td>\n",
       "      <td>Bapu Nagar</td>\n",
       "      <td>Jaipur</td>\n",
       "      <td>Rajasthan</td>\n",
       "      <td>India</td>\n",
       "      <td>UCBJAIPUR</td>\n",
       "      <td>Misc</td>\n",
       "      <td>16</td>\n",
       "      <td>12</td>\n",
       "      <td>2019</td>\n",
       "    </tr>\n",
       "    <tr>\n",
       "      <th>13</th>\n",
       "      <td>2019-12-16</td>\n",
       "      <td>HILTON GARDEN INN GURGGURGAON                 ...</td>\n",
       "      <td>0.0</td>\n",
       "      <td>Hotel brand</td>\n",
       "      <td>554.33</td>\n",
       "      <td>JASJIT KAUR</td>\n",
       "      <td>Domestic</td>\n",
       "      <td>INR</td>\n",
       "      <td>Sector 50</td>\n",
       "      <td>Gurugram</td>\n",
       "      <td>Haryana</td>\n",
       "      <td>India</td>\n",
       "      <td>HILTON GARDEN INN GURGGURGAON</td>\n",
       "      <td>Travel</td>\n",
       "      <td>16</td>\n",
       "      <td>12</td>\n",
       "      <td>2019</td>\n",
       "    </tr>\n",
       "    <tr>\n",
       "      <th>14</th>\n",
       "      <td>2019-12-16</td>\n",
       "      <td>CAFE COFFEE DAYHIGHWAY KI                     ...</td>\n",
       "      <td>0.0</td>\n",
       "      <td>Cafe company</td>\n",
       "      <td>236.00</td>\n",
       "      <td>JASJIT KAUR</td>\n",
       "      <td>Domestic</td>\n",
       "      <td>INR</td>\n",
       "      <td>Others</td>\n",
       "      <td>Others</td>\n",
       "      <td>Others</td>\n",
       "      <td>Others</td>\n",
       "      <td>CAFE COFFEE DAYHIGHWAY KI</td>\n",
       "      <td>Food</td>\n",
       "      <td>16</td>\n",
       "      <td>12</td>\n",
       "      <td>2019</td>\n",
       "    </tr>\n",
       "    <tr>\n",
       "      <th>15</th>\n",
       "      <td>2019-12-16</td>\n",
       "      <td>UCBJAIPUR                                     ...</td>\n",
       "      <td>0.0</td>\n",
       "      <td>Misc</td>\n",
       "      <td>11690.00</td>\n",
       "      <td>JASJIT KAUR</td>\n",
       "      <td>Domestic</td>\n",
       "      <td>INR</td>\n",
       "      <td>Bapu Nagar</td>\n",
       "      <td>Jaipur</td>\n",
       "      <td>Rajasthan</td>\n",
       "      <td>India</td>\n",
       "      <td>UCBJAIPUR</td>\n",
       "      <td>Misc</td>\n",
       "      <td>16</td>\n",
       "      <td>12</td>\n",
       "      <td>2019</td>\n",
       "    </tr>\n",
       "    <tr>\n",
       "      <th>16</th>\n",
       "      <td>2019-12-17</td>\n",
       "      <td>THE ROOM               GURGAON                ...</td>\n",
       "      <td>0.0</td>\n",
       "      <td>Video game</td>\n",
       "      <td>75.00</td>\n",
       "      <td>VIBHORE GOYAL</td>\n",
       "      <td>Domestic</td>\n",
       "      <td>INR</td>\n",
       "      <td>Central Park II</td>\n",
       "      <td>Gurugram</td>\n",
       "      <td>Haryana</td>\n",
       "      <td>India</td>\n",
       "      <td>THE ROOM</td>\n",
       "      <td>Game</td>\n",
       "      <td>17</td>\n",
       "      <td>12</td>\n",
       "      <td>2019</td>\n",
       "    </tr>\n",
       "    <tr>\n",
       "      <th>17</th>\n",
       "      <td>2019-12-17</td>\n",
       "      <td>FLIPKART PAYMENTS      BANGALORE              ...</td>\n",
       "      <td>0.0</td>\n",
       "      <td>Electronics retail company</td>\n",
       "      <td>439.00</td>\n",
       "      <td>VIBHORE GOYAL</td>\n",
       "      <td>Domestic</td>\n",
       "      <td>INR</td>\n",
       "      <td>3rd Block</td>\n",
       "      <td>Bengaluru</td>\n",
       "      <td>Karnataka</td>\n",
       "      <td>India</td>\n",
       "      <td>FLIPKART PAYMENTS</td>\n",
       "      <td>Shopping</td>\n",
       "      <td>17</td>\n",
       "      <td>12</td>\n",
       "      <td>2019</td>\n",
       "    </tr>\n",
       "    <tr>\n",
       "      <th>18</th>\n",
       "      <td>2019-12-17</td>\n",
       "      <td>Planet NeedsGURGAON                           ...</td>\n",
       "      <td>0.0</td>\n",
       "      <td>Misc</td>\n",
       "      <td>83.00</td>\n",
       "      <td>JASJIT KAUR</td>\n",
       "      <td>Domestic</td>\n",
       "      <td>INR</td>\n",
       "      <td>Sector 42</td>\n",
       "      <td>Gurugram</td>\n",
       "      <td>Haryana</td>\n",
       "      <td>India</td>\n",
       "      <td>Planet NeedsGURGAON</td>\n",
       "      <td>Misc</td>\n",
       "      <td>17</td>\n",
       "      <td>12</td>\n",
       "      <td>2019</td>\n",
       "    </tr>\n",
       "    <tr>\n",
       "      <th>19</th>\n",
       "      <td>2019-12-17</td>\n",
       "      <td>Planet NeedsGURGAON                           ...</td>\n",
       "      <td>0.0</td>\n",
       "      <td>Misc</td>\n",
       "      <td>772.00</td>\n",
       "      <td>JASJIT KAUR</td>\n",
       "      <td>Domestic</td>\n",
       "      <td>INR</td>\n",
       "      <td>Sector 42</td>\n",
       "      <td>Gurugram</td>\n",
       "      <td>Haryana</td>\n",
       "      <td>India</td>\n",
       "      <td>Planet NeedsGURGAON</td>\n",
       "      <td>Misc</td>\n",
       "      <td>17</td>\n",
       "      <td>12</td>\n",
       "      <td>2019</td>\n",
       "    </tr>\n",
       "    <tr>\n",
       "      <th>20</th>\n",
       "      <td>2019-12-17</td>\n",
       "      <td>Planet Needs             GURGAON              ...</td>\n",
       "      <td>0.0</td>\n",
       "      <td>Misc</td>\n",
       "      <td>85.00</td>\n",
       "      <td>JASJIT KAUR</td>\n",
       "      <td>Domestic</td>\n",
       "      <td>INR</td>\n",
       "      <td>Sector 42</td>\n",
       "      <td>Gurugram</td>\n",
       "      <td>Haryana</td>\n",
       "      <td>India</td>\n",
       "      <td>Planet Needs</td>\n",
       "      <td>Misc</td>\n",
       "      <td>17</td>\n",
       "      <td>12</td>\n",
       "      <td>2019</td>\n",
       "    </tr>\n",
       "    <tr>\n",
       "      <th>21</th>\n",
       "      <td>2019-12-18</td>\n",
       "      <td>SAVVY                  GURGAON                ...</td>\n",
       "      <td>0.0</td>\n",
       "      <td>Misc</td>\n",
       "      <td>449.00</td>\n",
       "      <td>JASJIT KAUR</td>\n",
       "      <td>Domestic</td>\n",
       "      <td>INR</td>\n",
       "      <td>Galleria Market</td>\n",
       "      <td>Gurugram</td>\n",
       "      <td>Haryana</td>\n",
       "      <td>India</td>\n",
       "      <td>SAVVY</td>\n",
       "      <td>Misc</td>\n",
       "      <td>18</td>\n",
       "      <td>12</td>\n",
       "      <td>2019</td>\n",
       "    </tr>\n",
       "    <tr>\n",
       "      <th>22</th>\n",
       "      <td>2019-12-18</td>\n",
       "      <td>THE ROOM               GURGAON                ...</td>\n",
       "      <td>0.0</td>\n",
       "      <td>Video game</td>\n",
       "      <td>50.00</td>\n",
       "      <td>VIBHORE GOYAL</td>\n",
       "      <td>Domestic</td>\n",
       "      <td>INR</td>\n",
       "      <td>Central Park II</td>\n",
       "      <td>Gurugram</td>\n",
       "      <td>Haryana</td>\n",
       "      <td>India</td>\n",
       "      <td>THE ROOM</td>\n",
       "      <td>Game</td>\n",
       "      <td>18</td>\n",
       "      <td>12</td>\n",
       "      <td>2019</td>\n",
       "    </tr>\n",
       "    <tr>\n",
       "      <th>23</th>\n",
       "      <td>2019-12-18</td>\n",
       "      <td>WWW OLACABS COM        GURGAON                ...</td>\n",
       "      <td>0.0</td>\n",
       "      <td>Ridesharing company</td>\n",
       "      <td>1.00</td>\n",
       "      <td>VIBHORE GOYAL</td>\n",
       "      <td>Domestic</td>\n",
       "      <td>INR</td>\n",
       "      <td>Dundahera Village</td>\n",
       "      <td>Gurugram</td>\n",
       "      <td>Haryana</td>\n",
       "      <td>India</td>\n",
       "      <td>WWW OLACABS COM</td>\n",
       "      <td>Travel</td>\n",
       "      <td>18</td>\n",
       "      <td>12</td>\n",
       "      <td>2019</td>\n",
       "    </tr>\n",
       "    <tr>\n",
       "      <th>24</th>\n",
       "      <td>2019-12-18</td>\n",
       "      <td>SURYA AND COMPANY      GURGAON                ...</td>\n",
       "      <td>0.0</td>\n",
       "      <td>1988 film</td>\n",
       "      <td>1590.00</td>\n",
       "      <td>JASJIT KAUR</td>\n",
       "      <td>Domestic</td>\n",
       "      <td>INR</td>\n",
       "      <td>South City II</td>\n",
       "      <td>Gurugram</td>\n",
       "      <td>Haryana</td>\n",
       "      <td>India</td>\n",
       "      <td>SURYA AND COMPANY</td>\n",
       "      <td>Entertainment</td>\n",
       "      <td>18</td>\n",
       "      <td>12</td>\n",
       "      <td>2019</td>\n",
       "    </tr>\n",
       "  </tbody>\n",
       "</table>\n",
       "</div>"
      ],
      "text/plain": [
       "         Date                                        Description  \\\n",
       "0  2019-12-12  THE ROOM               GURGAON                ...   \n",
       "1  2019-12-12  CUT AND STYLEGURGAON                          ...   \n",
       "2  2019-12-12  MUMUSOGURGAON                                 ...   \n",
       "3  2019-12-12  THE ROOM               GURGAON                ...   \n",
       "4  2019-12-12  THE ROOM               GURGAON                ...   \n",
       "5  2019-12-13  JAIPUR SPACEJAIPUR                            ...   \n",
       "6  2019-12-13  CAFE COFFEE DAYHIGHWAY KI                     ...   \n",
       "7  2019-12-14  CAFE COFFEE DAYALANKAR PL                     ...   \n",
       "8  2019-12-15  LIFE STYLE INTERNATIONAJAIPUR                 ...   \n",
       "9  2019-12-15  NEW U 47                 JAIPUR               ...   \n",
       "10 2019-12-15  COCONUT RESTAURANTJAIPUR                      ...   \n",
       "11 2019-12-15  CAFE COFFEE DAYALANKAR PL                     ...   \n",
       "12 2019-12-16  UCBJAIPUR                                     ...   \n",
       "13 2019-12-16  HILTON GARDEN INN GURGGURGAON                 ...   \n",
       "14 2019-12-16  CAFE COFFEE DAYHIGHWAY KI                     ...   \n",
       "15 2019-12-16  UCBJAIPUR                                     ...   \n",
       "16 2019-12-17  THE ROOM               GURGAON                ...   \n",
       "17 2019-12-17  FLIPKART PAYMENTS      BANGALORE              ...   \n",
       "18 2019-12-17  Planet NeedsGURGAON                           ...   \n",
       "19 2019-12-17  Planet NeedsGURGAON                           ...   \n",
       "20 2019-12-17  Planet Needs             GURGAON              ...   \n",
       "21 2019-12-18  SAVVY                  GURGAON                ...   \n",
       "22 2019-12-18  THE ROOM               GURGAON                ...   \n",
       "23 2019-12-18  WWW OLACABS COM        GURGAON                ...   \n",
       "24 2019-12-18  SURYA AND COMPANY      GURGAON                ...   \n",
       "\n",
       "    InternationTransactionAmount                    Category    Amount  \\\n",
       "0                            0.0                  Video game    127.00   \n",
       "1                            0.0                  Occupation    499.00   \n",
       "2                            0.0                        Misc    388.00   \n",
       "3                            0.0                  Video game    108.00   \n",
       "4                            0.0                  Video game     50.00   \n",
       "5                            0.0               City in India    360.00   \n",
       "6                            0.0                Cafe company    286.00   \n",
       "7                            0.0                Cafe company    786.00   \n",
       "8                            0.0                        Misc   1698.00   \n",
       "9                            0.0       New York City borough   1890.00   \n",
       "10                           0.0                      Plants    715.00   \n",
       "11                           0.0                Cafe company    591.00   \n",
       "12                           0.0                        Misc    325.00   \n",
       "13                           0.0                 Hotel brand    554.33   \n",
       "14                           0.0                Cafe company    236.00   \n",
       "15                           0.0                        Misc  11690.00   \n",
       "16                           0.0                  Video game     75.00   \n",
       "17                           0.0  Electronics retail company    439.00   \n",
       "18                           0.0                        Misc     83.00   \n",
       "19                           0.0                        Misc    772.00   \n",
       "20                           0.0                        Misc     85.00   \n",
       "21                           0.0                        Misc    449.00   \n",
       "22                           0.0                  Video game     50.00   \n",
       "23                           0.0         Ridesharing company      1.00   \n",
       "24                           0.0                   1988 film   1590.00   \n",
       "\n",
       "     TransactionUserName  TransactionType IsoCurrency           Locality  \\\n",
       "0          VIBHORE GOYAL         Domestic         INR    Central Park II   \n",
       "1            JASJIT KAUR         Domestic         INR           Sector 4   \n",
       "2            JASJIT KAUR         Domestic         INR          Sector 49   \n",
       "3          VIBHORE GOYAL         Domestic         INR    Central Park II   \n",
       "4          VIBHORE GOYAL         Domestic         INR    Central Park II   \n",
       "5            JASJIT KAUR         Domestic         INR           Sector 9   \n",
       "6            JASJIT KAUR         Domestic         INR             Others   \n",
       "7            JASJIT KAUR         Domestic         INR             Others   \n",
       "8          VIBHORE GOYAL         Domestic         INR    Durgadas Colony   \n",
       "9          VIBHORE GOYAL         Domestic         INR             Jaipur   \n",
       "10           JASJIT KAUR         Domestic         INR       Subash Nagar   \n",
       "11           JASJIT KAUR         Domestic         INR             Others   \n",
       "12           JASJIT KAUR         Domestic         INR         Bapu Nagar   \n",
       "13           JASJIT KAUR         Domestic         INR          Sector 50   \n",
       "14           JASJIT KAUR         Domestic         INR             Others   \n",
       "15           JASJIT KAUR         Domestic         INR         Bapu Nagar   \n",
       "16         VIBHORE GOYAL         Domestic         INR    Central Park II   \n",
       "17         VIBHORE GOYAL         Domestic         INR          3rd Block   \n",
       "18           JASJIT KAUR         Domestic         INR          Sector 42   \n",
       "19           JASJIT KAUR         Domestic         INR          Sector 42   \n",
       "20           JASJIT KAUR         Domestic         INR          Sector 42   \n",
       "21           JASJIT KAUR         Domestic         INR    Galleria Market   \n",
       "22         VIBHORE GOYAL         Domestic         INR    Central Park II   \n",
       "23         VIBHORE GOYAL         Domestic         INR  Dundahera Village   \n",
       "24           JASJIT KAUR         Domestic         INR      South City II   \n",
       "\n",
       "         City      State Country                   Description2  \\\n",
       "0    Gurugram    Haryana   India                       THE ROOM   \n",
       "1    Gurugram    Haryana   India           CUT AND STYLEGURGAON   \n",
       "2    Gurugram    Haryana   India                  MUMUSOGURGAON   \n",
       "3    Gurugram    Haryana   India                       THE ROOM   \n",
       "4    Gurugram    Haryana   India                       THE ROOM   \n",
       "5      Jaipur  Rajasthan   India             JAIPUR SPACEJAIPUR   \n",
       "6      Others     Others  Others      CAFE COFFEE DAYHIGHWAY KI   \n",
       "7      Others     Others  Others      CAFE COFFEE DAYALANKAR PL   \n",
       "8      Jaipur  Rajasthan   India  LIFE STYLE INTERNATIONAJAIPUR   \n",
       "9      Jaipur  Rajasthan   India                       NEW U 47   \n",
       "10     Jaipur  Rajasthan   India       COCONUT RESTAURANTJAIPUR   \n",
       "11     Others     Others  Others      CAFE COFFEE DAYALANKAR PL   \n",
       "12     Jaipur  Rajasthan   India                      UCBJAIPUR   \n",
       "13   Gurugram    Haryana   India  HILTON GARDEN INN GURGGURGAON   \n",
       "14     Others     Others  Others      CAFE COFFEE DAYHIGHWAY KI   \n",
       "15     Jaipur  Rajasthan   India                      UCBJAIPUR   \n",
       "16   Gurugram    Haryana   India                       THE ROOM   \n",
       "17  Bengaluru  Karnataka   India              FLIPKART PAYMENTS   \n",
       "18   Gurugram    Haryana   India            Planet NeedsGURGAON   \n",
       "19   Gurugram    Haryana   India            Planet NeedsGURGAON   \n",
       "20   Gurugram    Haryana   India                   Planet Needs   \n",
       "21   Gurugram    Haryana   India                          SAVVY   \n",
       "22   Gurugram    Haryana   India                       THE ROOM   \n",
       "23   Gurugram    Haryana   India                WWW OLACABS COM   \n",
       "24   Gurugram    Haryana   India              SURYA AND COMPANY   \n",
       "\n",
       "   Categorization  Day  Month  Year  \n",
       "0            Game   12     12  2019  \n",
       "1            Misc   12     12  2019  \n",
       "2            Misc   12     12  2019  \n",
       "3            Game   12     12  2019  \n",
       "4            Game   12     12  2019  \n",
       "5            Misc   13     12  2019  \n",
       "6            Food   13     12  2019  \n",
       "7            Food   14     12  2019  \n",
       "8            Misc   15     12  2019  \n",
       "9            Misc   15     12  2019  \n",
       "10           Misc   15     12  2019  \n",
       "11           Food   15     12  2019  \n",
       "12           Misc   16     12  2019  \n",
       "13         Travel   16     12  2019  \n",
       "14           Food   16     12  2019  \n",
       "15           Misc   16     12  2019  \n",
       "16           Game   17     12  2019  \n",
       "17       Shopping   17     12  2019  \n",
       "18           Misc   17     12  2019  \n",
       "19           Misc   17     12  2019  \n",
       "20           Misc   17     12  2019  \n",
       "21           Misc   18     12  2019  \n",
       "22           Game   18     12  2019  \n",
       "23         Travel   18     12  2019  \n",
       "24  Entertainment   18     12  2019  "
      ]
     },
     "execution_count": 84,
     "metadata": {},
     "output_type": "execute_result"
    }
   ],
   "source": [
    "df.head(25)"
   ]
  },
  {
   "cell_type": "code",
   "execution_count": 85,
   "metadata": {},
   "outputs": [
    {
     "data": {
      "text/plain": [
       "0"
      ]
     },
     "execution_count": 85,
     "metadata": {},
     "output_type": "execute_result"
    }
   ],
   "source": [
    "df['Day'].isnull().sum()"
   ]
  },
  {
   "cell_type": "code",
   "execution_count": 86,
   "metadata": {},
   "outputs": [
    {
     "data": {
      "text/plain": [
       "0"
      ]
     },
     "execution_count": 86,
     "metadata": {},
     "output_type": "execute_result"
    }
   ],
   "source": [
    "df['Month'].isnull().sum()"
   ]
  },
  {
   "cell_type": "code",
   "execution_count": 87,
   "metadata": {},
   "outputs": [
    {
     "data": {
      "text/plain": [
       "0"
      ]
     },
     "execution_count": 87,
     "metadata": {},
     "output_type": "execute_result"
    }
   ],
   "source": [
    "df['Year'].isnull().sum()"
   ]
  },
  {
   "cell_type": "code",
   "execution_count": 88,
   "metadata": {},
   "outputs": [
    {
     "data": {
      "text/html": [
       "<div>\n",
       "<style scoped>\n",
       "    .dataframe tbody tr th:only-of-type {\n",
       "        vertical-align: middle;\n",
       "    }\n",
       "\n",
       "    .dataframe tbody tr th {\n",
       "        vertical-align: top;\n",
       "    }\n",
       "\n",
       "    .dataframe thead th {\n",
       "        text-align: right;\n",
       "    }\n",
       "</style>\n",
       "<table border=\"1\" class=\"dataframe\">\n",
       "  <thead>\n",
       "    <tr style=\"text-align: right;\">\n",
       "      <th></th>\n",
       "      <th>Date</th>\n",
       "      <th>Description</th>\n",
       "      <th>InternationTransactionAmount</th>\n",
       "      <th>Category</th>\n",
       "      <th>Amount</th>\n",
       "      <th>TransactionUserName</th>\n",
       "      <th>TransactionType</th>\n",
       "      <th>IsoCurrency</th>\n",
       "      <th>Locality</th>\n",
       "      <th>City</th>\n",
       "      <th>State</th>\n",
       "      <th>Country</th>\n",
       "      <th>Description2</th>\n",
       "      <th>Categorization</th>\n",
       "      <th>Day</th>\n",
       "      <th>Month</th>\n",
       "      <th>Year</th>\n",
       "    </tr>\n",
       "  </thead>\n",
       "  <tbody>\n",
       "    <tr>\n",
       "      <th>0</th>\n",
       "      <td>2019-12-12</td>\n",
       "      <td>THE ROOM               GURGAON                ...</td>\n",
       "      <td>0.0</td>\n",
       "      <td>Video game</td>\n",
       "      <td>127.0</td>\n",
       "      <td>VIBHORE GOYAL</td>\n",
       "      <td>Domestic</td>\n",
       "      <td>INR</td>\n",
       "      <td>Central Park II</td>\n",
       "      <td>Gurugram</td>\n",
       "      <td>Haryana</td>\n",
       "      <td>India</td>\n",
       "      <td>THE ROOM</td>\n",
       "      <td>Game</td>\n",
       "      <td>12</td>\n",
       "      <td>12</td>\n",
       "      <td>2019</td>\n",
       "    </tr>\n",
       "    <tr>\n",
       "      <th>1</th>\n",
       "      <td>2019-12-12</td>\n",
       "      <td>CUT AND STYLEGURGAON                          ...</td>\n",
       "      <td>0.0</td>\n",
       "      <td>Occupation</td>\n",
       "      <td>499.0</td>\n",
       "      <td>JASJIT KAUR</td>\n",
       "      <td>Domestic</td>\n",
       "      <td>INR</td>\n",
       "      <td>Sector 4</td>\n",
       "      <td>Gurugram</td>\n",
       "      <td>Haryana</td>\n",
       "      <td>India</td>\n",
       "      <td>CUT AND STYLEGURGAON</td>\n",
       "      <td>Misc</td>\n",
       "      <td>12</td>\n",
       "      <td>12</td>\n",
       "      <td>2019</td>\n",
       "    </tr>\n",
       "    <tr>\n",
       "      <th>2</th>\n",
       "      <td>2019-12-12</td>\n",
       "      <td>MUMUSOGURGAON                                 ...</td>\n",
       "      <td>0.0</td>\n",
       "      <td>Misc</td>\n",
       "      <td>388.0</td>\n",
       "      <td>JASJIT KAUR</td>\n",
       "      <td>Domestic</td>\n",
       "      <td>INR</td>\n",
       "      <td>Sector 49</td>\n",
       "      <td>Gurugram</td>\n",
       "      <td>Haryana</td>\n",
       "      <td>India</td>\n",
       "      <td>MUMUSOGURGAON</td>\n",
       "      <td>Misc</td>\n",
       "      <td>12</td>\n",
       "      <td>12</td>\n",
       "      <td>2019</td>\n",
       "    </tr>\n",
       "    <tr>\n",
       "      <th>3</th>\n",
       "      <td>2019-12-12</td>\n",
       "      <td>THE ROOM               GURGAON                ...</td>\n",
       "      <td>0.0</td>\n",
       "      <td>Video game</td>\n",
       "      <td>108.0</td>\n",
       "      <td>VIBHORE GOYAL</td>\n",
       "      <td>Domestic</td>\n",
       "      <td>INR</td>\n",
       "      <td>Central Park II</td>\n",
       "      <td>Gurugram</td>\n",
       "      <td>Haryana</td>\n",
       "      <td>India</td>\n",
       "      <td>THE ROOM</td>\n",
       "      <td>Game</td>\n",
       "      <td>12</td>\n",
       "      <td>12</td>\n",
       "      <td>2019</td>\n",
       "    </tr>\n",
       "    <tr>\n",
       "      <th>4</th>\n",
       "      <td>2019-12-12</td>\n",
       "      <td>THE ROOM               GURGAON                ...</td>\n",
       "      <td>0.0</td>\n",
       "      <td>Video game</td>\n",
       "      <td>50.0</td>\n",
       "      <td>VIBHORE GOYAL</td>\n",
       "      <td>Domestic</td>\n",
       "      <td>INR</td>\n",
       "      <td>Central Park II</td>\n",
       "      <td>Gurugram</td>\n",
       "      <td>Haryana</td>\n",
       "      <td>India</td>\n",
       "      <td>THE ROOM</td>\n",
       "      <td>Game</td>\n",
       "      <td>12</td>\n",
       "      <td>12</td>\n",
       "      <td>2019</td>\n",
       "    </tr>\n",
       "    <tr>\n",
       "      <th>5</th>\n",
       "      <td>2019-12-13</td>\n",
       "      <td>JAIPUR SPACEJAIPUR                            ...</td>\n",
       "      <td>0.0</td>\n",
       "      <td>City in India</td>\n",
       "      <td>360.0</td>\n",
       "      <td>JASJIT KAUR</td>\n",
       "      <td>Domestic</td>\n",
       "      <td>INR</td>\n",
       "      <td>Sector 9</td>\n",
       "      <td>Jaipur</td>\n",
       "      <td>Rajasthan</td>\n",
       "      <td>India</td>\n",
       "      <td>JAIPUR SPACEJAIPUR</td>\n",
       "      <td>Misc</td>\n",
       "      <td>13</td>\n",
       "      <td>12</td>\n",
       "      <td>2019</td>\n",
       "    </tr>\n",
       "    <tr>\n",
       "      <th>6</th>\n",
       "      <td>2019-12-13</td>\n",
       "      <td>CAFE COFFEE DAYHIGHWAY KI                     ...</td>\n",
       "      <td>0.0</td>\n",
       "      <td>Cafe company</td>\n",
       "      <td>286.0</td>\n",
       "      <td>JASJIT KAUR</td>\n",
       "      <td>Domestic</td>\n",
       "      <td>INR</td>\n",
       "      <td>Others</td>\n",
       "      <td>Others</td>\n",
       "      <td>Others</td>\n",
       "      <td>Others</td>\n",
       "      <td>CAFE COFFEE DAYHIGHWAY KI</td>\n",
       "      <td>Food</td>\n",
       "      <td>13</td>\n",
       "      <td>12</td>\n",
       "      <td>2019</td>\n",
       "    </tr>\n",
       "    <tr>\n",
       "      <th>7</th>\n",
       "      <td>2019-12-14</td>\n",
       "      <td>CAFE COFFEE DAYALANKAR PL                     ...</td>\n",
       "      <td>0.0</td>\n",
       "      <td>Cafe company</td>\n",
       "      <td>786.0</td>\n",
       "      <td>JASJIT KAUR</td>\n",
       "      <td>Domestic</td>\n",
       "      <td>INR</td>\n",
       "      <td>Others</td>\n",
       "      <td>Others</td>\n",
       "      <td>Others</td>\n",
       "      <td>Others</td>\n",
       "      <td>CAFE COFFEE DAYALANKAR PL</td>\n",
       "      <td>Food</td>\n",
       "      <td>14</td>\n",
       "      <td>12</td>\n",
       "      <td>2019</td>\n",
       "    </tr>\n",
       "    <tr>\n",
       "      <th>8</th>\n",
       "      <td>2019-12-15</td>\n",
       "      <td>LIFE STYLE INTERNATIONAJAIPUR                 ...</td>\n",
       "      <td>0.0</td>\n",
       "      <td>Misc</td>\n",
       "      <td>1698.0</td>\n",
       "      <td>VIBHORE GOYAL</td>\n",
       "      <td>Domestic</td>\n",
       "      <td>INR</td>\n",
       "      <td>Durgadas Colony</td>\n",
       "      <td>Jaipur</td>\n",
       "      <td>Rajasthan</td>\n",
       "      <td>India</td>\n",
       "      <td>LIFE STYLE INTERNATIONAJAIPUR</td>\n",
       "      <td>Misc</td>\n",
       "      <td>15</td>\n",
       "      <td>12</td>\n",
       "      <td>2019</td>\n",
       "    </tr>\n",
       "    <tr>\n",
       "      <th>9</th>\n",
       "      <td>2019-12-15</td>\n",
       "      <td>NEW U 47                 JAIPUR               ...</td>\n",
       "      <td>0.0</td>\n",
       "      <td>New York City borough</td>\n",
       "      <td>1890.0</td>\n",
       "      <td>VIBHORE GOYAL</td>\n",
       "      <td>Domestic</td>\n",
       "      <td>INR</td>\n",
       "      <td>Jaipur</td>\n",
       "      <td>Jaipur</td>\n",
       "      <td>Rajasthan</td>\n",
       "      <td>India</td>\n",
       "      <td>NEW U 47</td>\n",
       "      <td>Misc</td>\n",
       "      <td>15</td>\n",
       "      <td>12</td>\n",
       "      <td>2019</td>\n",
       "    </tr>\n",
       "  </tbody>\n",
       "</table>\n",
       "</div>"
      ],
      "text/plain": [
       "        Date                                        Description  \\\n",
       "0 2019-12-12  THE ROOM               GURGAON                ...   \n",
       "1 2019-12-12  CUT AND STYLEGURGAON                          ...   \n",
       "2 2019-12-12  MUMUSOGURGAON                                 ...   \n",
       "3 2019-12-12  THE ROOM               GURGAON                ...   \n",
       "4 2019-12-12  THE ROOM               GURGAON                ...   \n",
       "5 2019-12-13  JAIPUR SPACEJAIPUR                            ...   \n",
       "6 2019-12-13  CAFE COFFEE DAYHIGHWAY KI                     ...   \n",
       "7 2019-12-14  CAFE COFFEE DAYALANKAR PL                     ...   \n",
       "8 2019-12-15  LIFE STYLE INTERNATIONAJAIPUR                 ...   \n",
       "9 2019-12-15  NEW U 47                 JAIPUR               ...   \n",
       "\n",
       "   InternationTransactionAmount               Category  Amount  \\\n",
       "0                           0.0             Video game   127.0   \n",
       "1                           0.0             Occupation   499.0   \n",
       "2                           0.0                   Misc   388.0   \n",
       "3                           0.0             Video game   108.0   \n",
       "4                           0.0             Video game    50.0   \n",
       "5                           0.0          City in India   360.0   \n",
       "6                           0.0           Cafe company   286.0   \n",
       "7                           0.0           Cafe company   786.0   \n",
       "8                           0.0                   Misc  1698.0   \n",
       "9                           0.0  New York City borough  1890.0   \n",
       "\n",
       "    TransactionUserName  TransactionType IsoCurrency         Locality  \\\n",
       "0         VIBHORE GOYAL         Domestic         INR  Central Park II   \n",
       "1           JASJIT KAUR         Domestic         INR         Sector 4   \n",
       "2           JASJIT KAUR         Domestic         INR        Sector 49   \n",
       "3         VIBHORE GOYAL         Domestic         INR  Central Park II   \n",
       "4         VIBHORE GOYAL         Domestic         INR  Central Park II   \n",
       "5           JASJIT KAUR         Domestic         INR         Sector 9   \n",
       "6           JASJIT KAUR         Domestic         INR           Others   \n",
       "7           JASJIT KAUR         Domestic         INR           Others   \n",
       "8         VIBHORE GOYAL         Domestic         INR  Durgadas Colony   \n",
       "9         VIBHORE GOYAL         Domestic         INR           Jaipur   \n",
       "\n",
       "       City      State Country                   Description2 Categorization  \\\n",
       "0  Gurugram    Haryana   India                       THE ROOM           Game   \n",
       "1  Gurugram    Haryana   India           CUT AND STYLEGURGAON           Misc   \n",
       "2  Gurugram    Haryana   India                  MUMUSOGURGAON           Misc   \n",
       "3  Gurugram    Haryana   India                       THE ROOM           Game   \n",
       "4  Gurugram    Haryana   India                       THE ROOM           Game   \n",
       "5    Jaipur  Rajasthan   India             JAIPUR SPACEJAIPUR           Misc   \n",
       "6    Others     Others  Others      CAFE COFFEE DAYHIGHWAY KI           Food   \n",
       "7    Others     Others  Others      CAFE COFFEE DAYALANKAR PL           Food   \n",
       "8    Jaipur  Rajasthan   India  LIFE STYLE INTERNATIONAJAIPUR           Misc   \n",
       "9    Jaipur  Rajasthan   India                       NEW U 47           Misc   \n",
       "\n",
       "   Day  Month  Year  \n",
       "0   12     12  2019  \n",
       "1   12     12  2019  \n",
       "2   12     12  2019  \n",
       "3   12     12  2019  \n",
       "4   12     12  2019  \n",
       "5   13     12  2019  \n",
       "6   13     12  2019  \n",
       "7   14     12  2019  \n",
       "8   15     12  2019  \n",
       "9   15     12  2019  "
      ]
     },
     "execution_count": 88,
     "metadata": {},
     "output_type": "execute_result"
    }
   ],
   "source": [
    "df.head(10)"
   ]
  },
  {
   "cell_type": "code",
   "execution_count": 89,
   "metadata": {},
   "outputs": [],
   "source": [
    "df.to_csv('CleanData.csv')"
   ]
  },
  {
   "cell_type": "markdown",
   "metadata": {},
   "source": [
    "### Newly added columns in the datset : \n",
    " 1. Description2 - Rwemoved the City name from the \"Description\" column\n",
    " 2. Categorization - Divided the rows into various following categories:\n",
    "    i.   Food\n",
    "    ii.  Shopping\n",
    "    iii. Game\n",
    "    iv.  Entertainment\n",
    "    v.   Travel\n",
    "    vi. Books\n",
    " 3. Day - Extracted from \"Date\" Column\n",
    " 4. Month - Extracted from \"Date\" Column\n",
    " 5. Year - Extracted from \"Date\" Column\n",
    " \n",
    "We can use the column, \"Categorization\" to "
   ]
  },
  {
   "cell_type": "code",
   "execution_count": null,
   "metadata": {},
   "outputs": [],
   "source": []
  },
  {
   "cell_type": "markdown",
   "metadata": {},
   "source": [
    "## Queries"
   ]
  },
  {
   "cell_type": "code",
   "execution_count": 90,
   "metadata": {},
   "outputs": [
    {
     "data": {
      "text/plain": [
       "Categorization\n",
       "Books              91618.54\n",
       "Entertainment     165081.66\n",
       "Food               88931.51\n",
       "Game              160999.32\n",
       "Health            205222.91\n",
       "Misc             5236132.23\n",
       "Shopping          972760.18\n",
       "Travel            149000.82\n",
       "Name: Amount, dtype: float64"
      ]
     },
     "execution_count": 90,
     "metadata": {},
     "output_type": "execute_result"
    }
   ],
   "source": [
    "df.groupby('Categorization')['Amount'].sum()"
   ]
  },
  {
   "cell_type": "markdown",
   "metadata": {},
   "source": []
  },
  {
   "cell_type": "code",
   "execution_count": 91,
   "metadata": {},
   "outputs": [],
   "source": [
    "import datetime\n",
    "today = datetime.datetime.now()"
   ]
  },
  {
   "cell_type": "markdown",
   "metadata": {},
   "source": [
    "## What was my food bill last month?"
   ]
  },
  {
   "cell_type": "code",
   "execution_count": 92,
   "metadata": {},
   "outputs": [
    {
     "data": {
      "text/plain": [
       "Amount                          0.0\n",
       "InternationTransactionAmount    0.0\n",
       "dtype: float64"
      ]
     },
     "execution_count": 92,
     "metadata": {},
     "output_type": "execute_result"
    }
   ],
   "source": [
    "# What was my food bill last month?\n",
    "\n",
    "df[(df.Categorization == 'Food') & (df.Month == today.month-1 if today.month > 1 else 12) & (df.Year == today.year)][['Amount' , 'InternationTransactionAmount']].sum()"
   ]
  },
  {
   "cell_type": "markdown",
   "metadata": {},
   "source": [
    "### Since there were no data for ther month of 2021, the amount came out to be 0.\n",
    "\n",
    "#### What was my food bill for 12/2019 ?"
   ]
  },
  {
   "cell_type": "code",
   "execution_count": 93,
   "metadata": {},
   "outputs": [
    {
     "data": {
      "text/plain": [
       "Amount                          2825.62\n",
       "InternationTransactionAmount       0.00\n",
       "dtype: float64"
      ]
     },
     "execution_count": 93,
     "metadata": {},
     "output_type": "execute_result"
    }
   ],
   "source": [
    "df[(df.Categorization == 'Food') & (df.Month == 12) & (df.Year == 2019)][['Amount' , 'InternationTransactionAmount']].sum()"
   ]
  },
  {
   "cell_type": "markdown",
   "metadata": {},
   "source": [
    "## Compare my monthly travel over past three month"
   ]
  },
  {
   "cell_type": "code",
   "execution_count": 94,
   "metadata": {},
   "outputs": [
    {
     "name": "stdout",
     "output_type": "stream",
     "text": [
      "Travel Expense for the month of 3  Year  2021 is :\n",
      "\n",
      "Amount                          0.0\n",
      "InternationTransactionAmount    0.0\n",
      "dtype: float64\n",
      "\n",
      "\n",
      "Travel Expense for the month of 2  Year  2021 is :\n",
      "\n",
      "Amount                          0.0\n",
      "InternationTransactionAmount    0.0\n",
      "dtype: float64\n",
      "\n",
      "\n",
      "Travel Expense for the month of 1  Year  2021 is :\n",
      "\n",
      "Amount                          0.0\n",
      "InternationTransactionAmount    0.0\n",
      "dtype: float64\n"
     ]
    }
   ],
   "source": [
    "print(\"Travel Expense for the month of\" , today.month-1 if today.month > 1 else 12,\" Year \", today.year, \"is :\\n\")\n",
    "print(df[(df.Categorization == 'Travel') & (df.Year == today.year) & (df.Month == (today.month-1 if today.month > 1 else 12))][['Amount' , 'InternationTransactionAmount']].sum())\n",
    "print(\"\\n\")\n",
    "print(\"Travel Expense for the month of\" , today.month-2 if today.month > 1 else 12,\" Year \", today.year, \"is :\\n\")\n",
    "print(df[(df.Categorization == 'Travel') & (df.Year == today.year) & (df.Month == (today.month-2 if today.month > 1 else 12))][['Amount' , 'InternationTransactionAmount']].sum())\n",
    "print(\"\\n\")\n",
    "print(\"Travel Expense for the month of\" , today.month-3 if today.month > 1 else 12,\" Year \", today.year, \"is :\\n\")\n",
    "print(df[(df.Categorization == 'Travel') & (df.Year == today.year) & (df.Month == (today.month-3 if today.month > 1 else 12))][['Amount' , 'InternationTransactionAmount']].sum())\n"
   ]
  },
  {
   "cell_type": "markdown",
   "metadata": {},
   "source": [
    "## Compare my monthly travel over past first three month of 2020"
   ]
  },
  {
   "cell_type": "code",
   "execution_count": 95,
   "metadata": {},
   "outputs": [
    {
     "name": "stdout",
     "output_type": "stream",
     "text": [
      "Travel Expense for the month of 3  Year  2020 is :\n",
      "\n",
      "Amount                          2211.66\n",
      "InternationTransactionAmount       0.00\n",
      "dtype: float64\n",
      "\n",
      "\n",
      "Travel Expense for the month of 2  Year  2020 is :\n",
      "\n",
      "Amount                          30905.96\n",
      "InternationTransactionAmount        0.00\n",
      "dtype: float64\n",
      "\n",
      "\n",
      "Travel Expense for the month of 1  Year  2020 is :\n",
      "\n",
      "Amount                          4959.27\n",
      "InternationTransactionAmount       0.00\n",
      "dtype: float64\n"
     ]
    }
   ],
   "source": [
    "print(\"Travel Expense for the month of\" , today.month-1 if today.month > 1 else 12,\" Year \", today.year-1, \"is :\\n\")\n",
    "print(df[(df.Categorization == 'Travel') & (df.Year == today.year-1) & (df.Month == (today.month-1 if today.month > 1 else 12))][['Amount' , 'InternationTransactionAmount']].sum())\n",
    "print(\"\\n\")\n",
    "print(\"Travel Expense for the month of\" , today.month-2 if today.month > 1 else 12,\" Year \", today.year-1, \"is :\\n\")\n",
    "print(df[(df.Categorization == 'Travel') & (df.Year == today.year-1) & (df.Month == (today.month-2 if today.month > 1 else 12))][['Amount' , 'InternationTransactionAmount']].sum())\n",
    "print(\"\\n\")\n",
    "print(\"Travel Expense for the month of\" , today.month-3 if today.month > 1 else 12,\" Year \", today.year-1, \"is :\\n\")\n",
    "print(df[(df.Categorization == 'Travel') & (df.Year == today.year-1) & (df.Month == (today.month-3 if today.month > 1 else 12))][['Amount' , 'InternationTransactionAmount']].sum())\n"
   ]
  },
  {
   "cell_type": "markdown",
   "metadata": {},
   "source": [
    "### Am I an impulsive shopper?"
   ]
  },
  {
   "cell_type": "code",
   "execution_count": 97,
   "metadata": {},
   "outputs": [
    {
     "name": "stdout",
     "output_type": "stream",
     "text": [
      "Shopping Cumulative Amount: \n"
     ]
    },
    {
     "data": {
      "text/plain": [
       "Amount                          972760.18\n",
       "InternationTransactionAmount       868.53\n",
       "dtype: float64"
      ]
     },
     "execution_count": 97,
     "metadata": {},
     "output_type": "execute_result"
    }
   ],
   "source": [
    "print(\"Shopping Cumulative Amount: \" )\n",
    "df[(df.Categorization == 'Shopping')][['Amount' , 'InternationTransactionAmount']].sum()"
   ]
  },
  {
   "cell_type": "code",
   "execution_count": 98,
   "metadata": {},
   "outputs": [
    {
     "name": "stdout",
     "output_type": "stream",
     "text": [
      "Shopping Bill Expense for  Year  2021 is :\n",
      "\n",
      "Amount                          0.0\n",
      "InternationTransactionAmount    0.0\n",
      "dtype: float64\n",
      "\n",
      "\n",
      "Shopping Bill Expense for  Year  2020 is :\n",
      "\n",
      "Amount                          338664.81\n",
      "InternationTransactionAmount         0.00\n",
      "dtype: float64\n",
      "\n",
      "\n",
      "Shopping Bill Expense for  Year  2019 is :\n",
      "\n",
      "Amount                          631562.51\n",
      "InternationTransactionAmount       832.53\n",
      "dtype: float64\n",
      "\n",
      "\n",
      "Shopping Bill Expense for  Year  2018 is :\n",
      "\n",
      "Amount                          2532.86\n",
      "InternationTransactionAmount      36.00\n",
      "dtype: float64\n",
      "----------------------------------------\n",
      "\n",
      "Shopping Cumulative Amount: \n"
     ]
    },
    {
     "data": {
      "text/plain": [
       "Amount                          972760.18\n",
       "InternationTransactionAmount       868.53\n",
       "dtype: float64"
      ]
     },
     "execution_count": 98,
     "metadata": {},
     "output_type": "execute_result"
    }
   ],
   "source": [
    "print(\"Shopping Bill Expense for\" , \" Year \", today.year, \"is :\\n\")\n",
    "print(df[(df.Categorization == 'Shopping') & (df.Year == today.year)][['Amount' , 'InternationTransactionAmount']].sum())\n",
    "print(\"\\n\")\n",
    "print(\"Shopping Bill Expense for\" , \" Year \",today.year-1, \"is :\\n\")\n",
    "print(df[(df.Categorization == 'Shopping') & (df.Year == today.year-1)][['Amount' , 'InternationTransactionAmount']].sum())\n",
    "print(\"\\n\")\n",
    "print(\"Shopping Bill Expense for\" , \" Year \", today.year-2, \"is :\\n\")\n",
    "print(df[(df.Categorization == 'Shopping') & (df.Year == today.year-2)][['Amount' , 'InternationTransactionAmount']].sum())\n",
    "print(\"\\n\")\n",
    "print(\"Shopping Bill Expense for\" , \" Year \", today.year-3, \"is :\\n\")\n",
    "print(df[(df.Categorization == 'Shopping') & (df.Year == today.year-3)][['Amount' , 'InternationTransactionAmount']].sum())\n",
    "\n",
    "print(\"----------------------------------------\\n\")\n",
    "print(\"Shopping Cumulative Amount: \" )\n",
    "df[(df.Categorization == 'Shopping')][['Amount' , 'InternationTransactionAmount']].sum()"
   ]
  },
  {
   "cell_type": "markdown",
   "metadata": {},
   "source": [
    "# Now you decide based whether the indidual is impulsive shopper or not. "
   ]
  },
  {
   "cell_type": "markdown",
   "metadata": {},
   "source": [
    "# ------------------------------------------------Thank You--------------------------------------------------"
   ]
  }
 ],
 "metadata": {
  "kernelspec": {
   "display_name": "Python 3",
   "language": "python",
   "name": "python3"
  },
  "language_info": {
   "codemirror_mode": {
    "name": "ipython",
    "version": 3
   },
   "file_extension": ".py",
   "mimetype": "text/x-python",
   "name": "python",
   "nbconvert_exporter": "python",
   "pygments_lexer": "ipython3",
   "version": "3.7.1"
  }
 },
 "nbformat": 4,
 "nbformat_minor": 2
}
